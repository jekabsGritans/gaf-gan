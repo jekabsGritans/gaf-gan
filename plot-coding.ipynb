{
 "cells": [
  {
   "cell_type": "code",
   "execution_count": null,
   "metadata": {
    "execution": {
     "iopub.execute_input": "2022-10-03T07:24:17.398714Z",
     "iopub.status.busy": "2022-10-03T07:24:17.398428Z",
     "iopub.status.idle": "2022-10-03T07:24:17.844888Z",
     "shell.execute_reply": "2022-10-03T07:24:17.844319Z",
     "shell.execute_reply.started": "2022-10-03T07:24:17.398660Z"
    }
   },
   "outputs": [],
   "source": [
    "import numpy as np\n",
    "import matplotlib.pyplot as plt"
   ]
  },
  {
   "cell_type": "code",
   "execution_count": null,
   "metadata": {
    "execution": {
     "iopub.execute_input": "2022-10-03T07:24:19.622255Z",
     "iopub.status.busy": "2022-10-03T07:24:19.621665Z",
     "iopub.status.idle": "2022-10-03T07:24:19.765892Z",
     "shell.execute_reply": "2022-10-03T07:24:19.765402Z",
     "shell.execute_reply.started": "2022-10-03T07:24:19.622231Z"
    }
   },
   "outputs": [],
   "source": [
    "minmax = lambda x: (min(x), max(x))\n",
    "import matplotlib as mpl\n",
    "COLOR = 'black'\n",
    "mpl.rcParams['text.color'] = COLOR\n",
    "mpl.rcParams['axes.labelcolor'] = COLOR\n",
    "mpl.rcParams['xtick.color'] = COLOR\n",
    "mpl.rcParams['ytick.color'] = COLOR\n",
    "\n",
    "\n",
    "\n",
    "def encode(series, n):\n",
    "    plot = np.zeros((n,n))\n",
    "    series = series[::len(series)//n][:n]\n",
    "    series/=series.max()\n",
    "    disc = (series*(n-1)).astype(int)\n",
    "    for i in range(n):\n",
    "        miny, maxy = minmax(disc[i:i+2])\n",
    "        plot[miny:maxy+1,i]=1\n",
    "    plot+=np.random.rand(plot.shape[0], plot.shape[1])*0.5\n",
    "    return plot\n",
    "x = np.sin(np.linspace(0, 2*np.pi, 64))**2\n",
    "# set figsize to 400x300 pixels\n",
    "plt.figure(figsize=(4,3))\n",
    "\n",
    "ax1, ax2 = plt.subplot(121), plt.subplot(122)\n",
    "# disable ticks for ax1 and ax2\n",
    "ax1.set_xticks([])\n",
    "ax1.set_yticks([])\n",
    "ax1.plot(x)\n",
    "ax2.matshow(encode(x, 64), origin=\"lower\", cmap=\"gray\")\n",
    "ax2.set_xticks([])\n",
    "ax2.set_yticks([])\n",
    "\n",
    "# save fig \n",
    "plt.savefig(\"plot-coding.png\", dpi=100, bbox_inches=\"tight\")"
   ]
  },
  {
   "cell_type": "code",
   "execution_count": null,
   "metadata": {
    "execution": {
     "iopub.execute_input": "2022-10-03T07:24:23.690361Z",
     "iopub.status.busy": "2022-10-03T07:24:23.689746Z",
     "iopub.status.idle": "2022-10-03T07:24:29.034635Z",
     "shell.execute_reply": "2022-10-03T07:24:29.034025Z",
     "shell.execute_reply.started": "2022-10-03T07:24:23.690314Z"
    }
   },
   "outputs": [],
   "source": [
    "import pandas as pd\n",
    "prices = pd.read_csv(\"/datasets/eur_usd/eurusd_minute.csv\")['BidClose'].values\n",
    "prices.shape"
   ]
  },
  {
   "cell_type": "code",
   "execution_count": null,
   "metadata": {
    "execution": {
     "iopub.execute_input": "2022-10-03T07:24:30.691026Z",
     "iopub.status.busy": "2022-10-03T07:24:30.690517Z",
     "iopub.status.idle": "2022-10-03T07:24:46.568604Z",
     "shell.execute_reply": "2022-10-03T07:24:46.568105Z",
     "shell.execute_reply.started": "2022-10-03T07:24:30.691005Z"
    }
   },
   "outputs": [],
   "source": [
    "from torch.utils.data import Dataset\n",
    "import torch\n",
    "\n",
    "class PlotDataset(Dataset):\n",
    "    def __init__(self, prices, n):\n",
    "        values = np.array(prices)\n",
    "        values = values[:len(values)//n*n]\n",
    "        values = values.reshape(-1,n)\n",
    "        values -= values.min(axis=1).reshape(-1,1)\n",
    "        plots = np.zeros((len(prices)//n, n, n))\n",
    "        for i in range(len(values)):\n",
    "            plots[i]= encode(values[i], n)\n",
    "\n",
    "        self.x = torch.from_numpy(plots).float().view(-1,1,n,n)\n",
    "\n",
    "\n",
    "    def __len__(self):\n",
    "        return self.x.size(0) \n",
    "\n",
    "    def __getitem__(self, idx):\n",
    "        return self.x[idx]\n",
    "\n",
    "dataset = PlotDataset(prices, 64)\n",
    "plt.matshow(dataset[0][0], origin=\"lower\", cmap=\"gray\")"
   ]
  },
  {
   "cell_type": "code",
   "execution_count": null,
   "metadata": {
    "execution": {
     "iopub.execute_input": "2022-10-03T07:27:20.836555Z",
     "iopub.status.busy": "2022-10-03T07:27:20.835991Z",
     "iopub.status.idle": "2022-10-03T07:27:21.467446Z",
     "shell.execute_reply": "2022-10-03T07:27:21.466762Z",
     "shell.execute_reply.started": "2022-10-03T07:27:20.836531Z"
    }
   },
   "outputs": [],
   "source": [
    "device = torch.device(\"cuda\" if torch.cuda.is_available() else \"cpu\")\n",
    "if device.type=='cuda':\n",
    "    !nvidia-smi"
   ]
  },
  {
   "cell_type": "code",
   "execution_count": null,
   "metadata": {
    "execution": {
     "iopub.execute_input": "2022-10-03T07:27:29.610470Z",
     "iopub.status.busy": "2022-10-03T07:27:29.610148Z"
    }
   },
   "outputs": [],
   "source": [
    "from src.models import Discriminator, Generator\n",
    "from src.trainer import WGanGpTrainer\n",
    "import torch.optim as optim\n",
    "from torch.utils.data import DataLoader\n",
    "\n",
    "d = Discriminator()\n",
    "g = Generator()\n",
    "\n",
    "\n",
    "trainer = WGanGpTrainer(\n",
    "    generator=g,\n",
    "    critic=d,\n",
    "    gen_optimizer=optim.Adam(g.parameters(), lr=1e-4, betas=(0.0, 0.9)),\n",
    "    critic_optimizer=optim.Adam(d.parameters(), lr=1e-4, betas=(0.0, 0.9)),\n",
    "    latent_dimension=100,\n",
    "    device=device,\n",
    "    model_dir=\"/storage/plot_model2\",\n",
    "    write_dir=\"/storage/plot_experiment2\",\n",
    "    checkpoint_interval=5,\n",
    ")\n",
    "\n",
    "train_loader = DataLoader(dataset, batch_size=32, shuffle=True)\n",
    "trainer.train(train_loader, 300)"
   ]
  },
  {
   "cell_type": "code",
   "execution_count": null,
   "metadata": {
    "execution": {
     "iopub.execute_input": "2022-10-03T04:48:26.320123Z",
     "iopub.status.busy": "2022-10-03T04:48:26.319614Z",
     "iopub.status.idle": "2022-10-03T04:48:30.244896Z",
     "shell.execute_reply": "2022-10-03T04:48:30.244220Z",
     "shell.execute_reply.started": "2022-10-03T04:48:26.320101Z"
    }
   },
   "outputs": [],
   "source": [
    "import os\n",
    "import torch\n",
    "from src.models import Generator\n",
    "import matplotlib.pyplot as plt\n",
    "\n",
    "g=Generator()\n",
    "for i in os.listdir(\"/storage/plot_model/checkpoints\"):\n",
    "    path = f\"/storage/plot_model/checkpoints/{i}/g.pt\"\n",
    "    g.load_state_dict(torch.load(path))\n",
    "    noise = torch.rand(1,100)\n",
    "    mat=g(noise)[0][0].detach().numpy()\n",
    "    plt.matshow(mat)"
   ]
  }
 ],
 "metadata": {
  "kernelspec": {
   "display_name": "Python 3 (ipykernel)",
   "language": "python",
   "name": "python3"
  },
  "language_info": {
   "codemirror_mode": {
    "name": "ipython",
    "version": 3
   },
   "file_extension": ".py",
   "mimetype": "text/x-python",
   "name": "python",
   "nbconvert_exporter": "python",
   "pygments_lexer": "ipython3",
   "version": "3.10.4"
  },
  "vscode": {
   "interpreter": {
    "hash": "28aa96b7ddb35c2f32a039daed947af8c5d558e606d9ab6f2da72a2e7c084a57"
   }
  }
 },
 "nbformat": 4,
 "nbformat_minor": 4
}
