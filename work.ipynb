{
 "cells": [
  {
   "cell_type": "code",
   "execution_count": 2,
   "metadata": {},
   "outputs": [],
   "source": [
    "from models import Generator, Discriminator\n",
    "\n",
    "import torch\n",
    "from transforms import pt_gaf, scale, stretch\n",
    "\n",
    "DATA_SHAPE = (1,64,64)\n",
    "IMAGE_DIM = 64\n",
    "\n",
    "noise = torch.randn(2, IMAGE_DIM)\n",
    "noise = noise-noise.min()\n",
    "noise = stretch(noise)\n",
    "mat = torch.stack([pt_gaf(n) for n in noise])\n",
    "\n",
    "\n",
    "x = mat.clone().view(2, *DATA_SHAPE)"
   ]
  },
  {
   "cell_type": "code",
   "execution_count": 3,
   "metadata": {},
   "outputs": [],
   "source": [
    "from torchvision.datasets import FashionMNIST\n",
    "from torchvision.transforms import ToTensor, Resize, Compose\n",
    "dataset = FashionMNIST('data/fashion-mnist', train=True, download=True, transform=Compose([Resize(IMAGE_DIM), ToTensor()]))"
   ]
  },
  {
   "cell_type": "code",
   "execution_count": 4,
   "metadata": {},
   "outputs": [
    {
     "name": "stdout",
     "output_type": "stream",
     "text": [
      "Training...\n"
     ]
    },
    {
     "name": "stderr",
     "output_type": "stream",
     "text": [
      "Epoch [1/1]:   1%|          | 5/938 [00:11<36:26,  2.34s/it]\n"
     ]
    },
    {
     "ename": "KeyboardInterrupt",
     "evalue": "",
     "output_type": "error",
     "traceback": [
      "\u001b[0;31m---------------------------------------------------------------------------\u001b[0m",
      "\u001b[0;31mKeyboardInterrupt\u001b[0m                         Traceback (most recent call last)",
      "\u001b[1;32m/Users/jekabsgritans/dataproj/gaf-gan/work.ipynb Cell 3\u001b[0m in \u001b[0;36m<cell line: 27>\u001b[0;34m()\u001b[0m\n\u001b[1;32m     <a href='vscode-notebook-cell:/Users/jekabsgritans/dataproj/gaf-gan/work.ipynb#W2sZmlsZQ%3D%3D?line=15'>16</a>\u001b[0m trainer \u001b[39m=\u001b[39m WGanTrainer(\n\u001b[1;32m     <a href='vscode-notebook-cell:/Users/jekabsgritans/dataproj/gaf-gan/work.ipynb#W2sZmlsZQ%3D%3D?line=16'>17</a>\u001b[0m     generator\u001b[39m=\u001b[39mg,\n\u001b[1;32m     <a href='vscode-notebook-cell:/Users/jekabsgritans/dataproj/gaf-gan/work.ipynb#W2sZmlsZQ%3D%3D?line=17'>18</a>\u001b[0m     critic\u001b[39m=\u001b[39md,\n\u001b[0;32m   (...)\u001b[0m\n\u001b[1;32m     <a href='vscode-notebook-cell:/Users/jekabsgritans/dataproj/gaf-gan/work.ipynb#W2sZmlsZQ%3D%3D?line=21'>22</a>\u001b[0m     device\u001b[39m=\u001b[39mdevice,\n\u001b[1;32m     <a href='vscode-notebook-cell:/Users/jekabsgritans/dataproj/gaf-gan/work.ipynb#W2sZmlsZQ%3D%3D?line=22'>23</a>\u001b[0m )\n\u001b[1;32m     <a href='vscode-notebook-cell:/Users/jekabsgritans/dataproj/gaf-gan/work.ipynb#W2sZmlsZQ%3D%3D?line=24'>25</a>\u001b[0m data_loader \u001b[39m=\u001b[39m DataLoader(dataset, batch_size\u001b[39m=\u001b[39m\u001b[39m64\u001b[39m, shuffle\u001b[39m=\u001b[39m\u001b[39mTrue\u001b[39;00m)\n\u001b[0;32m---> <a href='vscode-notebook-cell:/Users/jekabsgritans/dataproj/gaf-gan/work.ipynb#W2sZmlsZQ%3D%3D?line=26'>27</a>\u001b[0m trainer\u001b[39m.\u001b[39;49mtrain(data_loader, epochs\u001b[39m=\u001b[39;49m\u001b[39m1\u001b[39;49m)\n",
      "File \u001b[0;32m~/dataproj/gaf-gan/trainer.py:58\u001b[0m, in \u001b[0;36mGanTrainer.train\u001b[0;34m(self, data_loader, epochs)\u001b[0m\n\u001b[1;32m     56\u001b[0m \u001b[39mfor\u001b[39;00m epoch \u001b[39min\u001b[39;00m \u001b[39mrange\u001b[39m(epochs):\n\u001b[1;32m     57\u001b[0m     \u001b[39mself\u001b[39m\u001b[39m.\u001b[39m_curr_epoch \u001b[39m=\u001b[39m epoch\u001b[39m+\u001b[39m\u001b[39m1\u001b[39m\n\u001b[0;32m---> 58\u001b[0m     \u001b[39mself\u001b[39;49m\u001b[39m.\u001b[39;49mtrain_epoch(data_loader)\n",
      "File \u001b[0;32m~/dataproj/gaf-gan/trainer.py:102\u001b[0m, in \u001b[0;36mWGanTrainer.train_epoch\u001b[0;34m(self, data_loader)\u001b[0m\n\u001b[1;32m    100\u001b[0m \u001b[39mself\u001b[39m\u001b[39m.\u001b[39mtrain_critic_iteration(x_real)\n\u001b[1;32m    101\u001b[0m \u001b[39mif\u001b[39;00m \u001b[39mself\u001b[39m\u001b[39m.\u001b[39m__step_num \u001b[39m%\u001b[39m \u001b[39mself\u001b[39m\u001b[39m.\u001b[39mcritic_iterations \u001b[39m==\u001b[39m \u001b[39m0\u001b[39m:\n\u001b[0;32m--> 102\u001b[0m     \u001b[39mself\u001b[39;49m\u001b[39m.\u001b[39;49mtrain_gen_iteration(x_real)\n\u001b[1;32m    104\u001b[0m \u001b[39mif\u001b[39;00m \u001b[39mself\u001b[39m\u001b[39m.\u001b[39m__step_num \u001b[39m%\u001b[39m \u001b[39m10\u001b[39m \u001b[39m==\u001b[39m \u001b[39m0\u001b[39m:\n\u001b[1;32m    105\u001b[0m     \u001b[39mself\u001b[39m\u001b[39m.\u001b[39msave_sample()\n",
      "File \u001b[0;32m~/dataproj/gaf-gan/trainer.py:135\u001b[0m, in \u001b[0;36mWGanTrainer.train_gen_iteration\u001b[0;34m(self, x_real)\u001b[0m\n\u001b[1;32m    132\u001b[0m loss_gen \u001b[39m=\u001b[39m \u001b[39m-\u001b[39mtorch\u001b[39m.\u001b[39mmean(c_fake)\n\u001b[1;32m    134\u001b[0m \u001b[39mself\u001b[39m\u001b[39m.\u001b[39mg_optim\u001b[39m.\u001b[39mzero_grad()\n\u001b[0;32m--> 135\u001b[0m loss_gen\u001b[39m.\u001b[39;49mbackward()\n\u001b[1;32m    136\u001b[0m \u001b[39mself\u001b[39m\u001b[39m.\u001b[39mg_optim\u001b[39m.\u001b[39mstep()\n\u001b[1;32m    138\u001b[0m \u001b[39mself\u001b[39m\u001b[39m.\u001b[39mlosses[\u001b[39m'\u001b[39m\u001b[39mg\u001b[39m\u001b[39m'\u001b[39m]\u001b[39m.\u001b[39mappend(loss_gen\u001b[39m.\u001b[39mitem())\n",
      "File \u001b[0;32m~/miniconda3/envs/ml/lib/python3.9/site-packages/torch/_tensor.py:484\u001b[0m, in \u001b[0;36mTensor.backward\u001b[0;34m(self, gradient, retain_graph, create_graph, inputs)\u001b[0m\n\u001b[1;32m    474\u001b[0m \u001b[39mif\u001b[39;00m has_torch_function_unary(\u001b[39mself\u001b[39m):\n\u001b[1;32m    475\u001b[0m     \u001b[39mreturn\u001b[39;00m handle_torch_function(\n\u001b[1;32m    476\u001b[0m         Tensor\u001b[39m.\u001b[39mbackward,\n\u001b[1;32m    477\u001b[0m         (\u001b[39mself\u001b[39m,),\n\u001b[0;32m   (...)\u001b[0m\n\u001b[1;32m    482\u001b[0m         inputs\u001b[39m=\u001b[39minputs,\n\u001b[1;32m    483\u001b[0m     )\n\u001b[0;32m--> 484\u001b[0m torch\u001b[39m.\u001b[39;49mautograd\u001b[39m.\u001b[39;49mbackward(\n\u001b[1;32m    485\u001b[0m     \u001b[39mself\u001b[39;49m, gradient, retain_graph, create_graph, inputs\u001b[39m=\u001b[39;49minputs\n\u001b[1;32m    486\u001b[0m )\n",
      "File \u001b[0;32m~/miniconda3/envs/ml/lib/python3.9/site-packages/torch/autograd/__init__.py:191\u001b[0m, in \u001b[0;36mbackward\u001b[0;34m(tensors, grad_tensors, retain_graph, create_graph, grad_variables, inputs)\u001b[0m\n\u001b[1;32m    186\u001b[0m     retain_graph \u001b[39m=\u001b[39m create_graph\n\u001b[1;32m    188\u001b[0m \u001b[39m# The reason we repeat same the comment below is that\u001b[39;00m\n\u001b[1;32m    189\u001b[0m \u001b[39m# some Python versions print out the first line of a multi-line function\u001b[39;00m\n\u001b[1;32m    190\u001b[0m \u001b[39m# calls in the traceback and some print out the last line\u001b[39;00m\n\u001b[0;32m--> 191\u001b[0m Variable\u001b[39m.\u001b[39;49m_execution_engine\u001b[39m.\u001b[39;49mrun_backward(  \u001b[39m# Calls into the C++ engine to run the backward pass\u001b[39;49;00m\n\u001b[1;32m    192\u001b[0m     tensors, grad_tensors_, retain_graph, create_graph, inputs,\n\u001b[1;32m    193\u001b[0m     allow_unreachable\u001b[39m=\u001b[39;49m\u001b[39mTrue\u001b[39;49;00m, accumulate_grad\u001b[39m=\u001b[39;49m\u001b[39mTrue\u001b[39;49;00m)\n",
      "\u001b[0;31mKeyboardInterrupt\u001b[0m: "
     ]
    }
   ],
   "source": [
    "from models import Generator, Discriminator\n",
    "from trainer import WGanTrainer\n",
    "from torch.utils.data import DataLoader\n",
    "\n",
    "import torch\n",
    "\n",
    "device = torch.device('cuda' if torch.cuda.is_available() else 'cpu')\n",
    "\n",
    "g = Generator()\n",
    "g._initialize_weights()\n",
    "d = Discriminator()\n",
    "\n",
    "g_optim = torch.optim.Adam(g.parameters(), lr=0.0002, betas=(0.5, 0.999))\n",
    "d_optim = torch.optim.Adam(d.parameters(), lr=0.0002, betas=(0.5, 0.999))\n",
    "\n",
    "trainer = WGanTrainer(\n",
    "    generator=g,\n",
    "    critic=d,\n",
    "    gen_optimizer=g_optim,\n",
    "    critic_optimizer=d_optim,\n",
    "    latent_dimension=100,\n",
    "    device=device,\n",
    ")\n",
    "\n",
    "data_loader = DataLoader(dataset, batch_size=64, shuffle=True)\n",
    "\n",
    "trainer.train(data_loader, epochs=1)"
   ]
  },
  {
   "cell_type": "code",
   "execution_count": null,
   "metadata": {},
   "outputs": [],
   "source": []
  }
 ],
 "metadata": {
  "kernelspec": {
   "display_name": "Python 3.9.12 ('ml')",
   "language": "python",
   "name": "python3"
  },
  "language_info": {
   "codemirror_mode": {
    "name": "ipython",
    "version": 3
   },
   "file_extension": ".py",
   "mimetype": "text/x-python",
   "name": "python",
   "nbconvert_exporter": "python",
   "pygments_lexer": "ipython3",
   "version": "3.9.12"
  },
  "orig_nbformat": 4,
  "vscode": {
   "interpreter": {
    "hash": "ab8c0998a5f9d42f3d6dcd061fbd5513b46606b74b388aa0ede70f26674bea1e"
   }
  }
 },
 "nbformat": 4,
 "nbformat_minor": 2
}
