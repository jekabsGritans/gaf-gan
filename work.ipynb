{
 "cells": [
  {
   "cell_type": "code",
   "execution_count": null,
   "metadata": {},
   "outputs": [],
   "source": [
    "IMAGE_DIM=64\n",
    "\n",
    "from torchvision.datasets import FashionMNIST\n",
    "from torchvision.transforms import ToTensor, Resize, Compose\n",
    "dataset = FashionMNIST('data/fashion-mnist', train=True, download=True, transform=Compose([Resize(IMAGE_DIM), ToTensor()]))"
   ]
  },
  {
   "cell_type": "code",
   "execution_count": 6,
   "metadata": {},
   "outputs": [
    {
     "name": "stdout",
     "output_type": "stream",
     "text": [
      "Training...\n"
     ]
    },
    {
     "name": "stderr",
     "output_type": "stream",
     "text": [
      "Epoch [1/5]: 100%|█████████▉| 937/938 [03:08<00:00,  4.97it/s]\n"
     ]
    },
    {
     "ename": "RuntimeError",
     "evalue": "The expanded size of the tensor (64) must match the existing size (32) at non-singleton dimension 2.  Target sizes: [32, 1, 64, 64].  Tensor sizes: [32, 1]",
     "output_type": "error",
     "traceback": [
      "\u001b[0;31m---------------------------------------------------------------------------\u001b[0m",
      "\u001b[0;31mRuntimeError\u001b[0m                              Traceback (most recent call last)",
      "\u001b[1;32m/home/jekabs/dataproj/gaf-gan/work.ipynb Cell 2\u001b[0m in \u001b[0;36m<cell line: 30>\u001b[0;34m()\u001b[0m\n\u001b[1;32m     <a href='vscode-notebook-cell://ssh-remote%2B192.168.10.6/home/jekabs/dataproj/gaf-gan/work.ipynb#W1sdnNjb2RlLXJlbW90ZQ%3D%3D?line=18'>19</a>\u001b[0m trainer \u001b[39m=\u001b[39m WGanGpTrainer(\n\u001b[1;32m     <a href='vscode-notebook-cell://ssh-remote%2B192.168.10.6/home/jekabs/dataproj/gaf-gan/work.ipynb#W1sdnNjb2RlLXJlbW90ZQ%3D%3D?line=19'>20</a>\u001b[0m     generator\u001b[39m=\u001b[39mg,\n\u001b[1;32m     <a href='vscode-notebook-cell://ssh-remote%2B192.168.10.6/home/jekabs/dataproj/gaf-gan/work.ipynb#W1sdnNjb2RlLXJlbW90ZQ%3D%3D?line=20'>21</a>\u001b[0m     critic\u001b[39m=\u001b[39md,\n\u001b[0;32m   (...)\u001b[0m\n\u001b[1;32m     <a href='vscode-notebook-cell://ssh-remote%2B192.168.10.6/home/jekabs/dataproj/gaf-gan/work.ipynb#W1sdnNjb2RlLXJlbW90ZQ%3D%3D?line=24'>25</a>\u001b[0m     device\u001b[39m=\u001b[39mdevice,\n\u001b[1;32m     <a href='vscode-notebook-cell://ssh-remote%2B192.168.10.6/home/jekabs/dataproj/gaf-gan/work.ipynb#W1sdnNjb2RlLXJlbW90ZQ%3D%3D?line=25'>26</a>\u001b[0m )\n\u001b[1;32m     <a href='vscode-notebook-cell://ssh-remote%2B192.168.10.6/home/jekabs/dataproj/gaf-gan/work.ipynb#W1sdnNjb2RlLXJlbW90ZQ%3D%3D?line=27'>28</a>\u001b[0m data_loader \u001b[39m=\u001b[39m DataLoader(dataset, batch_size\u001b[39m=\u001b[39m\u001b[39m64\u001b[39m, shuffle\u001b[39m=\u001b[39m\u001b[39mTrue\u001b[39;00m)\n\u001b[0;32m---> <a href='vscode-notebook-cell://ssh-remote%2B192.168.10.6/home/jekabs/dataproj/gaf-gan/work.ipynb#W1sdnNjb2RlLXJlbW90ZQ%3D%3D?line=29'>30</a>\u001b[0m trainer\u001b[39m.\u001b[39;49mtrain(data_loader, epochs\u001b[39m=\u001b[39;49m\u001b[39m5\u001b[39;49m)\n",
      "File \u001b[0;32m~/dataproj/gaf-gan/trainer.py:61\u001b[0m, in \u001b[0;36mGanTrainer.train\u001b[0;34m(self, data_loader, epochs)\u001b[0m\n\u001b[1;32m     59\u001b[0m \u001b[39mfor\u001b[39;00m epoch \u001b[39min\u001b[39;00m \u001b[39mrange\u001b[39m(epochs):\n\u001b[1;32m     60\u001b[0m     \u001b[39mself\u001b[39m\u001b[39m.\u001b[39m_curr_epoch \u001b[39m=\u001b[39m epoch\u001b[39m+\u001b[39m\u001b[39m1\u001b[39m\n\u001b[0;32m---> 61\u001b[0m     \u001b[39mself\u001b[39;49m\u001b[39m.\u001b[39;49mtrain_epoch(data_loader)\n",
      "File \u001b[0;32m~/dataproj/gaf-gan/trainer.py:107\u001b[0m, in \u001b[0;36mWGanTrainer.train_epoch\u001b[0;34m(self, data_loader)\u001b[0m\n\u001b[1;32m    104\u001b[0m \u001b[39mif\u001b[39;00m \u001b[39mself\u001b[39m\u001b[39m.\u001b[39mdevice:\n\u001b[1;32m    105\u001b[0m     x_real \u001b[39m=\u001b[39m x_real\u001b[39m.\u001b[39mto(\u001b[39mself\u001b[39m\u001b[39m.\u001b[39mdevice)\n\u001b[0;32m--> 107\u001b[0m \u001b[39mself\u001b[39;49m\u001b[39m.\u001b[39;49mtrain_critic_iteration(x_real)\n\u001b[1;32m    108\u001b[0m \u001b[39mif\u001b[39;00m \u001b[39mself\u001b[39m\u001b[39m.\u001b[39m__step_num \u001b[39m%\u001b[39m \u001b[39mself\u001b[39m\u001b[39m.\u001b[39mcritic_iterations \u001b[39m==\u001b[39m \u001b[39m0\u001b[39m:\n\u001b[1;32m    109\u001b[0m     \u001b[39mself\u001b[39m\u001b[39m.\u001b[39mtrain_gen_iteration(x_real)\n",
      "File \u001b[0;32m~/dataproj/gaf-gan/trainer.py:203\u001b[0m, in \u001b[0;36mWGanGpTrainer.train_critic_iteration\u001b[0;34m(self, x_real)\u001b[0m\n\u001b[1;32m    200\u001b[0m c_real \u001b[39m=\u001b[39m \u001b[39mself\u001b[39m\u001b[39m.\u001b[39mc(x_real)\n\u001b[1;32m    201\u001b[0m c_fake \u001b[39m=\u001b[39m \u001b[39mself\u001b[39m\u001b[39m.\u001b[39mc(x_fake)\n\u001b[0;32m--> 203\u001b[0m gp \u001b[39m=\u001b[39m \u001b[39mself\u001b[39;49m\u001b[39m.\u001b[39;49m_gradient_penalty(x_real, x_fake)\n\u001b[1;32m    204\u001b[0m critic_loss \u001b[39m=\u001b[39m \u001b[39m-\u001b[39m(torch\u001b[39m.\u001b[39mmean(c_real) \u001b[39m-\u001b[39m torch\u001b[39m.\u001b[39mmean(c_fake)) \u001b[39m+\u001b[39m gp\n\u001b[1;32m    205\u001b[0m critic_loss\u001b[39m.\u001b[39mbackward()\n",
      "File \u001b[0;32m~/dataproj/gaf-gan/trainer.py:167\u001b[0m, in \u001b[0;36mWGanGpTrainer._gradient_penalty\u001b[0;34m(self, x_real, x_fake)\u001b[0m\n\u001b[1;32m    165\u001b[0m batch_size \u001b[39m=\u001b[39m x_real\u001b[39m.\u001b[39msize()[\u001b[39m0\u001b[39m]\n\u001b[1;32m    166\u001b[0m alpha \u001b[39m=\u001b[39m torch\u001b[39m.\u001b[39mrand(batch_size, \u001b[39m1\u001b[39m)\n\u001b[0;32m--> 167\u001b[0m alpha \u001b[39m=\u001b[39m alpha\u001b[39m.\u001b[39;49mexpand_as(x_real)\n\u001b[1;32m    168\u001b[0m \u001b[39mif\u001b[39;00m \u001b[39mself\u001b[39m\u001b[39m.\u001b[39mdevice:\n\u001b[1;32m    169\u001b[0m     alpha \u001b[39m=\u001b[39m alpha\u001b[39m.\u001b[39mto(\u001b[39mself\u001b[39m\u001b[39m.\u001b[39mdevice)\n",
      "\u001b[0;31mRuntimeError\u001b[0m: The expanded size of the tensor (64) must match the existing size (32) at non-singleton dimension 2.  Target sizes: [32, 1, 64, 64].  Tensor sizes: [32, 1]"
     ]
    }
   ],
   "source": [
    "from models import Generator, Discriminator\n",
    "from trainer import WGanTrainer, WGanGpTrainer\n",
    "from torch.utils.data import DataLoader\n",
    "\n",
    "import torch\n",
    "\n",
    "device = torch.device('cuda' if torch.cuda.is_available() else 'cpu')\n",
    "\n",
    "g = Generator()\n",
    "g._initialize_weights()\n",
    "d = Discriminator()\n",
    "\n",
    "# g_optim = torch.optim.Adam(g.parameters(), lr=0.0001, betas=(0.0, 0.9))\n",
    "# d_optim = torch.optim.Adam(d.parameters(), lr=0.0001, betas=(0.0, 0.9))\n",
    "\n",
    "g_optim = torch.optim.RMSprop(g.parameters(), lr=5e-5)\n",
    "d_optim = torch.optim.RMSprop(d.parameters(), lr=5e-5)\n",
    "\n",
    "trainer = WGanGpTrainer(\n",
    "    generator=g,\n",
    "    critic=d,\n",
    "    gen_optimizer=g_optim,\n",
    "    critic_optimizer=d_optim,\n",
    "    latent_dimension=100,\n",
    "    device=device,\n",
    ")\n",
    "\n",
    "data_loader = DataLoader(dataset, batch_size=64, shuffle=True)\n",
    "\n",
    "trainer.train(data_loader, epochs=5)"
   ]
  },
  {
   "cell_type": "code",
   "execution_count": 1,
   "metadata": {},
   "outputs": [
    {
     "ename": "NameError",
     "evalue": "name 'trainer' is not defined",
     "output_type": "error",
     "traceback": [
      "\u001b[0;31m---------------------------------------------------------------------------\u001b[0m",
      "\u001b[0;31mNameError\u001b[0m                                 Traceback (most recent call last)",
      "\u001b[1;32m/home/jekabs/dataproj/gaf-gan/work.ipynb Cell 3\u001b[0m in \u001b[0;36m<cell line: 2>\u001b[0;34m()\u001b[0m\n\u001b[1;32m      <a href='vscode-notebook-cell://ssh-remote%2B192.168.10.6/home/jekabs/dataproj/gaf-gan/work.ipynb#W2sdnNjb2RlLXJlbW90ZQ%3D%3D?line=0'>1</a>\u001b[0m \u001b[39mimport\u001b[39;00m \u001b[39mmatplotlib\u001b[39;00m\u001b[39m.\u001b[39;00m\u001b[39mpyplot\u001b[39;00m \u001b[39mas\u001b[39;00m \u001b[39mplt\u001b[39;00m\n\u001b[0;32m----> <a href='vscode-notebook-cell://ssh-remote%2B192.168.10.6/home/jekabs/dataproj/gaf-gan/work.ipynb#W2sdnNjb2RlLXJlbW90ZQ%3D%3D?line=1'>2</a>\u001b[0m trainer\u001b[39m.\u001b[39mplot_losses()\n\u001b[1;32m      <a href='vscode-notebook-cell://ssh-remote%2B192.168.10.6/home/jekabs/dataproj/gaf-gan/work.ipynb#W2sdnNjb2RlLXJlbW90ZQ%3D%3D?line=2'>3</a>\u001b[0m sample \u001b[39m=\u001b[39m trainer\u001b[39m.\u001b[39msample_generator(\u001b[39m1\u001b[39m)[\u001b[39m0\u001b[39m]\u001b[39m.\u001b[39mdetach()\u001b[39m.\u001b[39mcpu()\u001b[39m.\u001b[39mnumpy()\n\u001b[1;32m      <a href='vscode-notebook-cell://ssh-remote%2B192.168.10.6/home/jekabs/dataproj/gaf-gan/work.ipynb#W2sdnNjb2RlLXJlbW90ZQ%3D%3D?line=3'>4</a>\u001b[0m plt\u001b[39m.\u001b[39mmatshow(sample[\u001b[39m0\u001b[39m])\n",
      "\u001b[0;31mNameError\u001b[0m: name 'trainer' is not defined"
     ]
    }
   ],
   "source": [
    "import matplotlib.pyplot as plt\n",
    "trainer.plot_losses()\n",
    "sample = trainer.sample_generator(1)[0].detach().cpu().numpy()\n",
    "plt.matshow(sample[0])"
   ]
  },
  {
   "cell_type": "code",
   "execution_count": null,
   "metadata": {},
   "outputs": [],
   "source": []
  }
 ],
 "metadata": {
  "kernelspec": {
   "display_name": "Python 3 (ipykernel)",
   "language": "python",
   "name": "python3"
  },
  "orig_nbformat": 4,
  "vscode": {
   "interpreter": {
    "hash": "2df6389c60b272e987a008cf4b220b397ba28cb1dcf4f61ca87e4a7041a6522f"
   }
  }
 },
 "nbformat": 4,
 "nbformat_minor": 2
}
