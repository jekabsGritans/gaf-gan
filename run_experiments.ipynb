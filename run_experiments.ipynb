{
 "cells": [
  {
   "cell_type": "code",
   "execution_count": 1,
   "id": "1bc46359-141e-43f1-84fd-733f4ce7fc88",
   "metadata": {
    "execution": {
     "iopub.execute_input": "2022-09-23T05:24:54.537480Z",
     "iopub.status.busy": "2022-09-23T05:24:54.537185Z",
     "iopub.status.idle": "2022-09-23T05:24:55.116412Z",
     "shell.execute_reply": "2022-09-23T05:24:55.115767Z",
     "shell.execute_reply.started": "2022-09-23T05:24:54.537423Z"
    }
   },
   "outputs": [
    {
     "name": "stdout",
     "output_type": "stream",
     "text": [
      "Fri Sep 23 05:24:54 2022       \n",
      "+-----------------------------------------------------------------------------+\n",
      "| NVIDIA-SMI 460.91.03    Driver Version: 460.91.03    CUDA Version: 11.2     |\n",
      "|-------------------------------+----------------------+----------------------+\n",
      "| GPU  Name        Persistence-M| Bus-Id        Disp.A | Volatile Uncorr. ECC |\n",
      "| Fan  Temp  Perf  Pwr:Usage/Cap|         Memory-Usage | GPU-Util  Compute M. |\n",
      "|                               |                      |               MIG M. |\n",
      "|===============================+======================+======================|\n",
      "|   0  RTX A4000           Off  | 00000000:00:05.0 Off |                  Off |\n",
      "| 41%   36C    P8    16W / 140W |      2MiB / 16117MiB |      0%      Default |\n",
      "|                               |                      |                  N/A |\n",
      "+-------------------------------+----------------------+----------------------+\n",
      "                                                                               \n",
      "+-----------------------------------------------------------------------------+\n",
      "| Processes:                                                                  |\n",
      "|  GPU   GI   CI        PID   Type   Process name                  GPU Memory |\n",
      "|        ID   ID                                                   Usage      |\n",
      "|=============================================================================|\n",
      "|  No running processes found                                                 |\n",
      "+-----------------------------------------------------------------------------+\n"
     ]
    }
   ],
   "source": [
    "! nvidia-smi"
   ]
  },
  {
   "cell_type": "code",
   "execution_count": null,
   "id": "1e359342-3c70-4f8c-9562-f8635d7585f1",
   "metadata": {},
   "outputs": [],
   "source": [
    "! python experiment.py --encoding relative_gasf --logdir /storage/experiments --outdir /storage/models --cuda --tag exp_relgasf --dataset /datasets/eur_usd/eurusd_minute.csv --steps 200"
   ]
  },
  {
   "cell_type": "code",
   "execution_count": null,
   "id": "f4d73e36-093d-4dae-ba39-ea36df142ea3",
   "metadata": {},
   "outputs": [],
   "source": [
    "! python experiment.py --encoding gasf --logdir /storage/experiments --outdir /storage/models --cuda --tag exp_gasf --dataset /datasets/eur_usd/eurusd_minute.csv --steps 200"
   ]
  }
 ],
 "metadata": {
  "kernelspec": {
   "display_name": "Python 3 (ipykernel)",
   "language": "python",
   "name": "python3"
  },
  "language_info": {
   "codemirror_mode": {
    "name": "ipython",
    "version": 3
   },
   "file_extension": ".py",
   "mimetype": "text/x-python",
   "name": "python",
   "nbconvert_exporter": "python",
   "pygments_lexer": "ipython3",
   "version": "3.9.13"
  }
 },
 "nbformat": 4,
 "nbformat_minor": 5
}
