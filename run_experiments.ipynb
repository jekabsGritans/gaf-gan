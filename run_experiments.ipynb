{
 "cells": [
  {
   "cell_type": "code",
   "execution_count": null,
   "id": "1e359342-3c70-4f8c-9562-f8635d7585f1",
   "metadata": {},
   "outputs": [],
   "source": [
    "! python experiment.py --encoding relative_gasf --logdir /storage/experiments --outdir /storage/models --cuda --tag exp_relgasf --dataset /datasets/eur_usd/eurusd_minute.csv --steps 200"
   ]
  },
  {
   "cell_type": "code",
   "execution_count": null,
   "id": "f4d73e36-093d-4dae-ba39-ea36df142ea3",
   "metadata": {},
   "outputs": [],
   "source": [
    "! python experiment.py --encoding gasf --logdir /storage/experiments --outdir /storage/models --cuda --tag exp_gasf --dataset /datasets/eur_usd/eurusd_minute.csv --steps 200"
   ]
  }
 ],
 "metadata": {
  "kernelspec": {
   "display_name": "Python 3 (ipykernel)",
   "language": "python",
   "name": "python3"
  },
  "language_info": {
   "codemirror_mode": {
    "name": "ipython",
    "version": 3
   },
   "file_extension": ".py",
   "mimetype": "text/x-python",
   "name": "python",
   "nbconvert_exporter": "python",
   "pygments_lexer": "ipython3",
   "version": "3.9.13"
  }
 },
 "nbformat": 4,
 "nbformat_minor": 5
}
