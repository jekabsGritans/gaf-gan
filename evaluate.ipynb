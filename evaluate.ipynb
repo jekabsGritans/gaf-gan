{
 "cells": [
  {
   "cell_type": "markdown",
   "metadata": {},
   "source": [
    "# Evaluate model performance"
   ]
  },
  {
   "cell_type": "code",
   "execution_count": 1,
   "metadata": {},
   "outputs": [],
   "source": [
    "# Load price data\n",
    "import pandas as pd\n",
    "prices = pd.read_csv('data/eurusd_minute.csv')['BidClose'].values"
   ]
  },
  {
   "cell_type": "code",
   "execution_count": 2,
   "metadata": {},
   "outputs": [
    {
     "name": "stderr",
     "output_type": "stream",
     "text": [
      "/home/jekabs/anaconda3/envs/ml_env/lib/python3.8/site-packages/tqdm/auto.py:22: TqdmWarning: IProgress not found. Please update jupyter and ipywidgets. See https://ipywidgets.readthedocs.io/en/stable/user_install.html\n",
      "  from .autonotebook import tqdm as notebook_tqdm\n"
     ]
    }
   ],
   "source": [
    "from src.dataset import EncodedForexData\n",
    "import numpy as np\n",
    "from tqdm import tqdm\n",
    "\n",
    "from src.encoders import SimpleRasterizeEncoder, GasfEncoder\n",
    "simple_dataset = EncodedForexData(prices, 64, encoder=SimpleRasterizeEncoder(), relative=False)\n",
    "rel_simple_dataset = EncodedForexData(prices, 64, encoder=SimpleRasterizeEncoder(), relative=True)\n",
    "gasf_dataset = EncodedForexData(prices, 64, encoder=GasfEncoder(), relative=False)\n",
    "\n",
    "standardize = lambda x: (x-x.mean())/x.std()\n",
    "\n",
    "simple_encoder = SimpleRasterizeEncoder()\n",
    "gasf_encoder = GasfEncoder()"
   ]
  },
  {
   "cell_type": "code",
   "execution_count": 3,
   "metadata": {},
   "outputs": [
    {
     "name": "stderr",
     "output_type": "stream",
     "text": [
      "100%|██████████| 80690/80690 [00:00<00:00, 157731.16it/s]\n",
      "100%|██████████| 80690/80690 [00:04<00:00, 19483.97it/s]\n",
      "100%|██████████| 80690/80690 [00:00<00:00, 150981.33it/s]\n",
      "100%|██████████| 80690/80690 [00:03<00:00, 26352.58it/s]\n",
      "100%|██████████| 80690/80690 [00:02<00:00, 37895.28it/s]\n",
      "100%|██████████| 80690/80690 [00:03<00:00, 22451.00it/s]\n"
     ]
    },
    {
     "name": "stdout",
     "output_type": "stream",
     "text": [
      "(5083470,) (5164160,) (5083470,)\n"
     ]
    }
   ],
   "source": [
    "samples = [simple_encoder.decode(x) for x in tqdm(simple_dataset)]\n",
    "simple_data = np.concatenate([standardize(np.diff(x)) for x in tqdm(samples)])\n",
    "rel_samples = [simple_encoder.decode(x) for x in tqdm(rel_simple_dataset)]\n",
    "rel_data = np.concatenate([standardize(x) for x in tqdm(rel_samples)])\n",
    "gasf_samples = [gasf_encoder.decode(x) for x in tqdm(gasf_dataset)]\n",
    "gasf_data = np.concatenate([standardize(np.diff(x)) for x in tqdm(gasf_samples)])\n",
    "print(simple_data.shape, rel_data.shape, gasf_data.shape)"
   ]
  },
  {
   "cell_type": "code",
   "execution_count": 4,
   "metadata": {},
   "outputs": [
    {
     "data": {
      "image/png": "[encoded data removed]",
      "text/plain": [
       "<Figure size 864x288 with 3 Axes>"
      ]
     },
     "metadata": {
      "needs_background": "light"
     },
     "output_type": "display_data"
    }
   ],
   "source": [
    "import matplotlib.pyplot as plt\n",
    "\n",
    "fig, (ax1, ax2, ax3) = plt.subplots(1, 3, figsize=(12,4))\n",
    "ax1.hist(simple_data, bins=100, density=True)\n",
    "ax2.hist(rel_data, bins=100, density=True)\n",
    "ax3.hist(gasf_data, bins=100, density=True)\n",
    "plt.show()"
   ]
  },
  {
   "cell_type": "code",
   "execution_count": 5,
   "metadata": {},
   "outputs": [
    {
     "data": {
      "text/plain": [
       "Generator(\n",
       "  (fc): Linear(in_features=100, out_features=8192, bias=True)\n",
       "  (cnn): Sequential(\n",
       "    (0): ConvTranspose2d(512, 256, kernel_size=(4, 4), stride=(2, 2), padding=(1, 1), bias=False)\n",
       "    (1): BatchNorm2d(256, eps=1e-05, momentum=0.1, affine=True, track_running_stats=True)\n",
       "    (2): LeakyReLU(negative_slope=0.2, inplace=True)\n",
       "    (3): ConvTranspose2d(256, 128, kernel_size=(4, 4), stride=(2, 2), padding=(1, 1), bias=False)\n",
       "    (4): BatchNorm2d(128, eps=1e-05, momentum=0.1, affine=True, track_running_stats=True)\n",
       "    (5): LeakyReLU(negative_slope=0.2, inplace=True)\n",
       "    (6): ConvTranspose2d(128, 64, kernel_size=(4, 4), stride=(2, 2), padding=(1, 1), bias=False)\n",
       "    (7): BatchNorm2d(64, eps=1e-05, momentum=0.1, affine=True, track_running_stats=True)\n",
       "    (8): LeakyReLU(negative_slope=0.2, inplace=True)\n",
       "    (9): ConvTranspose2d(64, 1, kernel_size=(4, 4), stride=(2, 2), padding=(1, 1))\n",
       "    (10): Tanh()\n",
       "  )\n",
       ")"
      ]
     },
     "execution_count": 5,
     "metadata": {},
     "output_type": "execute_result"
    }
   ],
   "source": [
    "from src.models import Generator\n",
    "import torch\n",
    "\n",
    "device = torch.device('cuda' if torch.cuda.is_available() else 'cpu')\n",
    "model = Generator().to(device)\n",
    "model.eval()"
   ]
  },
  {
   "cell_type": "code",
   "execution_count": 6,
   "metadata": {},
   "outputs": [],
   "source": [
    "# Compare generated data to original data\n",
    "import numpy as np\n",
    "\n",
    "def sample_model(model, decoder, n):\n",
    "    sample_batches = []\n",
    "    with torch.no_grad():\n",
    "        noise = torch.randn(n,100).to(device)\n",
    "        for i in range(n//100):\n",
    "            sample_batches.append(model(noise[i*100:(i+1)*100]))\n",
    "\n",
    "    samples = []\n",
    "    for batch in sample_batches:\n",
    "        for mat in batch:\n",
    "            samples.append(standardize(decoder(mat)))\n",
    "\n",
    "    return np.stack(samples)"
   ]
  },
  {
   "cell_type": "code",
   "execution_count": 8,
   "metadata": {},
   "outputs": [
    {
     "name": "stderr",
     "output_type": "stream",
     "text": [
      "100%|██████████| 71/71 [01:36<00:00,  1.36s/it]\n"
     ]
    }
   ],
   "source": [
    "import matplotlib.pyplot as plt\n",
    "from src.utils import plot_cdf\n",
    "from scipy.stats import kstest\n",
    "\n",
    "experiment = 'gasf4'\n",
    "name = 'gasf_iter20'\n",
    "data = simple_data\n",
    "\n",
    "# decode = lambda x: simple_encoder.decode(x)\n",
    "decode = lambda x: np.diff(simple_encoder.decode(x))\n",
    "\n",
    "n = 1000\n",
    "\n",
    "epoch_weights = [f'experiments/{experiment}/model/checkpoints/{i}/g.pt' for i in range(71)]\n",
    "\n",
    "def get_ks(weights, model, decoder, n, data):\n",
    "    model.load_state_dict(torch.load(weights))\n",
    "    model_samples = sample_model(model, decode, n)\n",
    "    model_data = model_samples.reshape(-1)\n",
    "    ks = kstest(data, model_data)\n",
    "    assert ks[1] < 0.05\n",
    "    return ks.statistic\n",
    "\n",
    "\n",
    "ks_vals = np.array([get_ks(w, model, decode, n, data) for w in tqdm(epoch_weights)])\n",
    "np.save(f'results/{name}_ks_vals.npy', ks_vals)"
   ]
  },
  {
   "cell_type": "code",
   "execution_count": 11,
   "metadata": {},
   "outputs": [
    {
     "data": {
      "text/plain": [
       "[<matplotlib.lines.Line2D at 0x7f5d51183c40>]"
      ]
     },
     "execution_count": 11,
     "metadata": {},
     "output_type": "execute_result"
    },
    {
     "data": {
      "image/png": "[encoded data removed]",
      "text/plain": [
       "<Figure size 432x288 with 1 Axes>"
      ]
     },
     "metadata": {
      "needs_background": "light"
     },
     "output_type": "display_data"
    }
   ],
   "source": [
    "plt.plot(ks_vals)"
   ]
  }
 ],
 "metadata": {
  "kernelspec": {
   "display_name": "Python 3.8.13 ('ml_env')",
   "language": "python",
   "name": "python3"
  },
  "language_info": {
   "codemirror_mode": {
    "name": "ipython",
    "version": 3
   },
   "file_extension": ".py",
   "mimetype": "text/x-python",
   "name": "python",
   "nbconvert_exporter": "python",
   "pygments_lexer": "ipython3",
   "version": "3.8.13"
  },
  "orig_nbformat": 4,
  "vscode": {
   "interpreter": {
    "hash": "2df6389c60b272e987a008cf4b220b397ba28cb1dcf4f61ca87e4a7041a6522f"
   }
  }
 },
 "nbformat": 4,
 "nbformat_minor": 2
}
