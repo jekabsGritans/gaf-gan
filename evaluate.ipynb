{
 "cells": [
  {
   "cell_type": "markdown",
   "metadata": {},
   "source": [
    "# Evaluate model performance"
   ]
  },
  {
   "cell_type": "code",
   "execution_count": 2,
   "metadata": {},
   "outputs": [],
   "source": [
    "# Load price data\n",
    "import pandas as pd\n",
    "prices = pd.read_csv('data/eurusd_minute.csv')['BidClose'].values"
   ]
  },
  {
   "cell_type": "code",
   "execution_count": 3,
   "metadata": {},
   "outputs": [],
   "source": [
    "from src.dataset import EncodedForexData\n",
    "import numpy as np\n",
    "from tqdm.notebook import tqdm\n",
    "\n",
    "from src.encoders import SimpleRasterizeEncoder, GasfEncoder\n",
    "simple_dataset = EncodedForexData(prices, 64, encoder=SimpleRasterizeEncoder(), relative=False)\n",
    "# rel_simple_dataset = EncodedForexData(prices, 64, encoder=SimpleRasterizeEncoder(), relative=True)\n",
    "# gasf_dataset = EncodedForexData(prices, 64, encoder=GasfEncoder(), relative=False)\n",
    "\n",
    "standardize = lambda x: (x-x.mean())/x.std()\n",
    "\n",
    "simple_encoder = SimpleRasterizeEncoder()\n",
    "gasf_encoder = GasfEncoder()"
   ]
  },
  {
   "cell_type": "code",
   "execution_count": 4,
   "metadata": {},
   "outputs": [
    {
     "data": {
      "application/json": {
       "ascii": false,
       "bar_format": null,
       "colour": null,
       "elapsed": 0.031701087951660156,
       "initial": 0,
       "n": 0,
       "ncols": null,
       "nrows": null,
       "postfix": null,
       "prefix": "",
       "rate": null,
       "total": 80690,
       "unit": "it",
       "unit_divisor": 1000,
       "unit_scale": false
      },
      "application/vnd.jupyter.widget-view+json": {
       "model_id": "451e3207302d4f4ab554e2709f967916",
       "version_major": 2,
       "version_minor": 0
      },
      "text/plain": [
       "  0%|          | 0/80690 [00:00<?, ?it/s]"
      ]
     },
     "metadata": {},
     "output_type": "display_data"
    },
    {
     "data": {
      "application/json": {
       "ascii": false,
       "bar_format": null,
       "colour": null,
       "elapsed": 0.020682811737060547,
       "initial": 0,
       "n": 0,
       "ncols": null,
       "nrows": null,
       "postfix": null,
       "prefix": "",
       "rate": null,
       "total": 80690,
       "unit": "it",
       "unit_divisor": 1000,
       "unit_scale": false
      },
      "application/vnd.jupyter.widget-view+json": {
       "model_id": "471d0bea5dc94b20bdb4a7c1e3432ee0",
       "version_major": 2,
       "version_minor": 0
      },
      "text/plain": [
       "  0%|          | 0/80690 [00:00<?, ?it/s]"
      ]
     },
     "metadata": {},
     "output_type": "display_data"
    }
   ],
   "source": [
    "samples = [simple_encoder.decode(x) for x in tqdm(simple_dataset)]\n",
    "simple_data = np.concatenate([standardize(np.diff(x)) for x in tqdm(samples)])\n",
    "# rel_samples = [simple_encoder.decode(x) for x in tqdm(rel_simple_dataset)]\n",
    "# rel_data = np.concatenate([standardize(x) for x in tqdm(rel_samples)])\n",
    "# gasf_samples = [gasf_encoder.decode(x) for x in tqdm(gasf_dataset)]\n",
    "# gasf_data = np.concatenate([standardize(np.diff(x)) for x in tqdm(gasf_samples)])\n",
    "# print(simple_data.shape, rel_data.shape, gasf_data.shape)"
   ]
  },
  {
   "cell_type": "code",
   "execution_count": 12,
   "metadata": {},
   "outputs": [
    {
     "data": {
      "image/png": "[encoded data removed]",
      "text/plain": [
       "<Figure size 720x216 with 2 Axes>"
      ]
     },
     "metadata": {
      "needs_background": "light"
     },
     "output_type": "display_data"
    }
   ],
   "source": [
    "import matplotlib.pyplot as plt\n",
    "import numpy as np\n",
    "fig, (ax1,ax2) = plt.subplots(1,2,figsize=(10,3))\n",
    "ax1.hist(simple_data[simple_data>0], bins=100, color='green', alpha=0.5)\n",
    "ax1.hist(simple_data[simple_data<0], bins=100, color='red', alpha=0.5)\n",
    "ax1.set_title('Distribution of price changes')\n",
    "ax2.hist(simple_data[simple_data>0], bins=100, label=\"positive price changes (abs)\", alpha=0.5, color='green')\n",
    "ax2.hist(-simple_data[simple_data<0], bins=100, label=\"negative price changes (abs)\", alpha=0.5, color='red')\n",
    "ax2.set_title('overlay absolute values')\n",
    "plt.legend()\n",
    "plt.show()"
   ]
  },
  {
   "cell_type": "code",
   "execution_count": null,
   "metadata": {},
   "outputs": [],
   "source": [
    "import matplotlib.pyplot as plt\n",
    "\n",
    "fig, (ax1, ax2, ax3) = plt.subplots(1, 3, figsize=(12,4))\n",
    "ax1.hist(simple_data, bins=100, density=True)\n",
    "ax2.hist(rel_data, bins=100, density=True)\n",
    "ax3.hist(gasf_data, bins=100, density=True)\n",
    "plt.show()"
   ]
  },
  {
   "cell_type": "code",
   "execution_count": null,
   "metadata": {},
   "outputs": [],
   "source": [
    "from src.models import Generator\n",
    "import torch\n",
    "\n",
    "device = torch.device('cuda' if torch.cuda.is_available() else 'cpu')\n",
    "model = Generator().to(device)\n",
    "model.eval()"
   ]
  },
  {
   "cell_type": "code",
   "execution_count": null,
   "metadata": {},
   "outputs": [],
   "source": [
    "# Compare generated data to original data\n",
    "import numpy as np\n",
    "\n",
    "def sample_model(model, decoder, n):\n",
    "    sample_batches = []\n",
    "    with torch.no_grad():\n",
    "        noise = torch.randn(n,100).to(device)\n",
    "        for i in range(n//100):\n",
    "            sample_batches.append(model(noise[i*100:(i+1)*100]))\n",
    "\n",
    "    samples = []\n",
    "    for batch in sample_batches:\n",
    "        for mat in batch:\n",
    "            samples.append(standardize(decoder(mat)))\n",
    "\n",
    "    return np.stack(samples)"
   ]
  },
  {
   "cell_type": "code",
   "execution_count": null,
   "metadata": {},
   "outputs": [],
   "source": [
    "import matplotlib.pyplot as plt\n",
    "from src.data_utils import plot_cdf\n",
    "from scipy.stats import kstest\n",
    "\n",
    "# experiment = 'gasf4'\n",
    "name = 'gasf_regular'\n",
    "# data = simple_data\n",
    "data = gasf_data\n",
    "# decode = lambda x: simple_encoder.decode(x)\n",
    "# decode = lambda x: np.diff(simple_encoder.decode(x))\n",
    "# decode = lambda x: np.diff(gasf_encoder.decode(x))\n",
    "decode = lambda x: np.diff(gasf_encoder.decode_noisy(x[0]))\n",
    "\n",
    "n = 1000\n",
    "\n",
    "epoch_weights = [f'new_method/model/gasf_2022-08-27_10-04-29/checkpoints/{i}/g.pt' for i in range(1, 2)]\n",
    "\n",
    "def get_ks(weights, model, decoder, n, data):\n",
    "    model.load_state_dict(torch.load(weights))\n",
    "    model_samples = sample_model(model, decode, n)\n",
    "    model_data = model_samples.reshape(-1)\n",
    "    ks = kstest(data, model_data)\n",
    "    assert ks[1] < 0.05\n",
    "    return ks.statistic\n",
    "\n",
    "\n",
    "ks_vals = np.array([get_ks(w, model, decode, n, data) for w in epoch_weights])\n",
    "# np.save(f'results/{name}_ks_vals.npy', ks_vals)"
   ]
  },
  {
   "cell_type": "code",
   "execution_count": null,
   "metadata": {},
   "outputs": [],
   "source": [
    "plt.plot(ks_vals)\n",
    "# np.save('results/gasf_noisy_ks.npy', ks_vals)"
   ]
  }
 ],
 "metadata": {
  "kernelspec": {
   "display_name": "Python 3.8.13 ('ml_env')",
   "language": "python",
   "name": "python3"
  },
  "language_info": {
   "codemirror_mode": {
    "name": "ipython",
    "version": 3
   },
   "file_extension": ".py",
   "mimetype": "text/x-python",
   "name": "python",
   "nbconvert_exporter": "python",
   "pygments_lexer": "ipython3",
   "version": "3.8.13"
  },
  "orig_nbformat": 4,
  "vscode": {
   "interpreter": {
    "hash": "2df6389c60b272e987a008cf4b220b397ba28cb1dcf4f61ca87e4a7041a6522f"
   }
  }
 },
 "nbformat": 4,
 "nbformat_minor": 2
}
