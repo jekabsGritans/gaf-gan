{
 "cells": [
  {
   "cell_type": "markdown",
   "metadata": {},
   "source": [
    "# Evaluate model performance"
   ]
  },
  {
   "cell_type": "code",
   "execution_count": 1,
   "metadata": {},
   "outputs": [],
   "source": [
    "# Load price data\n",
    "import pandas as pd\n",
    "prices = pd.read_csv('data/eurusd_minute.csv')['BidClose'].values"
   ]
  },
  {
   "cell_type": "code",
   "execution_count": 4,
   "metadata": {},
   "outputs": [
    {
     "name": "stderr",
     "output_type": "stream",
     "text": [
      "100%|██████████| 80690/80690 [00:06<00:00, 13350.32it/s]\n"
     ]
    }
   ],
   "source": [
    "# Sample standardized data interval values\n",
    "from pyexpat import model\n",
    "from dataset import EncodedForexData\n",
    "import numpy as np\n",
    "from tqdm import tqdm\n",
    "\n",
    "from encoders import SimpleRasterizeEncoder, GasfEncoder, RGGafEncoder\n",
    "\n",
    "ENCODER = 'simple'\n",
    "\n",
    "params = {\n",
    "    'simple': {'encoder':SimpleRasterizeEncoder(), 'channels':1, 'relative':True},\n",
    "    'gasf': {'encoder':GasfEncoder(), 'channels':1, 'relative':False},\n",
    "    'rggaf': {'encoder':RGGafEncoder(), 'channels':2, 'relative':True},\n",
    "}[ENCODER]\n",
    "\n",
    "dataset = EncodedForexData(prices, 64, encoder=params['encoder'], relative=params['relative'])\n",
    "encoder = params['encoder']\n",
    "\n",
    "\n",
    "standardize = lambda x: (x-x.mean())/x.std()\n",
    "decode = lambda x: standardize(encoder.decode(x))\n",
    "\n",
    "data = np.concatenate([decode(mat) for mat in tqdm(dataset)], axis=0)"
   ]
  },
  {
   "cell_type": "code",
   "execution_count": 5,
   "metadata": {},
   "outputs": [],
   "source": [
    "from models import Generator\n",
    "model = Generator(channels=params['channels'])"
   ]
  },
  {
   "cell_type": "code",
   "execution_count": 3,
   "metadata": {},
   "outputs": [],
   "source": [
    "import matplotlib.pyplot as plt\n",
    "def plot_cdf(data):\n",
    "    y = 1. * np.arange(len(data)) / (len(data) - 1)\n",
    "    plt.plot(np.sort(data), y)"
   ]
  },
  {
   "cell_type": "code",
   "execution_count": 13,
   "metadata": {},
   "outputs": [],
   "source": [
    "# Compare generated data to original data\n",
    "from transforms import reverse_rel_raster, reverse_gasf\n",
    "from dataset import ForexData\n",
    "import numpy as np\n",
    "import matplotlib.pyplot as plt\n",
    "\n",
    "import torch\n",
    "device = torch.device('cuda' if torch.cuda.is_available() else 'cpu')\n",
    "\n",
    "def evaluate(model, decoder, n):\n",
    "    model.eval()\n",
    "    with torch.no_grad():\n",
    "        noise = torch.randn(n,100).to(device)\n",
    "        encoded = model(noise)\n",
    "    model_samples = decoder(encoded)\n",
    "\n",
    "    model_data = model_samples.reshape(-1)\n",
    "    plot_cdf(model_data)\n",
    "    plot_cdf(model_data)\n",
    "    plt.show()"
   ]
  },
  {
   "cell_type": "code",
   "execution_count": null,
   "metadata": {},
   "outputs": [],
   "source": [
    "for weights in []:\n",
    "    model.load_state_dict(torch.load(weights))\n",
    "    evaluate(model, decode, 100)"
   ]
  }
 ],
 "metadata": {
  "kernelspec": {
   "display_name": "Python 3.8.13 ('ml_env')",
   "language": "python",
   "name": "python3"
  },
  "language_info": {
   "codemirror_mode": {
    "name": "ipython",
    "version": 3
   },
   "file_extension": ".py",
   "mimetype": "text/x-python",
   "name": "python",
   "nbconvert_exporter": "python",
   "pygments_lexer": "ipython3",
   "version": "3.8.13"
  },
  "orig_nbformat": 4,
  "vscode": {
   "interpreter": {
    "hash": "2df6389c60b272e987a008cf4b220b397ba28cb1dcf4f61ca87e4a7041a6522f"
   }
  }
 },
 "nbformat": 4,
 "nbformat_minor": 2
}
