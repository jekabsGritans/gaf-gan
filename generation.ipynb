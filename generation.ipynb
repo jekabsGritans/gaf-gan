{
 "cells": [
  {
   "cell_type": "code",
   "execution_count": 1,
   "metadata": {},
   "outputs": [
    {
     "name": "stderr",
     "output_type": "stream",
     "text": [
      "/home/jekabs/anaconda3/envs/ml_env/lib/python3.8/site-packages/tqdm/auto.py:22: TqdmWarning: IProgress not found. Please update jupyter and ipywidgets. See https://ipywidgets.readthedocs.io/en/stable/user_install.html\n",
      "  from .autonotebook import tqdm as notebook_tqdm\n"
     ]
    },
    {
     "data": {
      "text/plain": [
       "Generator(\n",
       "  (fc): Linear(in_features=100, out_features=8192, bias=True)\n",
       "  (cnn): Sequential(\n",
       "    (0): ConvTranspose2d(512, 256, kernel_size=(4, 4), stride=(2, 2), padding=(1, 1), bias=False)\n",
       "    (1): BatchNorm2d(256, eps=1e-05, momentum=0.1, affine=True, track_running_stats=True)\n",
       "    (2): LeakyReLU(negative_slope=0.2, inplace=True)\n",
       "    (3): ConvTranspose2d(256, 128, kernel_size=(4, 4), stride=(2, 2), padding=(1, 1), bias=False)\n",
       "    (4): BatchNorm2d(128, eps=1e-05, momentum=0.1, affine=True, track_running_stats=True)\n",
       "    (5): LeakyReLU(negative_slope=0.2, inplace=True)\n",
       "    (6): ConvTranspose2d(128, 64, kernel_size=(4, 4), stride=(2, 2), padding=(1, 1), bias=False)\n",
       "    (7): BatchNorm2d(64, eps=1e-05, momentum=0.1, affine=True, track_running_stats=True)\n",
       "    (8): LeakyReLU(negative_slope=0.2, inplace=True)\n",
       "    (9): ConvTranspose2d(64, 1, kernel_size=(4, 4), stride=(2, 2), padding=(1, 1))\n",
       "    (10): Tanh()\n",
       "  )\n",
       ")"
      ]
     },
     "execution_count": 1,
     "metadata": {},
     "output_type": "execute_result"
    }
   ],
   "source": [
    "import torch\n",
    "from models import Generator\n",
    "gaf_generator = Generator()\n",
    "gaf_generator.load_state_dict(torch.load('models/64x3/g4.pt'))\n",
    "gaf_generator.eval()"
   ]
  },
  {
   "cell_type": "code",
   "execution_count": 2,
   "metadata": {},
   "outputs": [
    {
     "name": "stdout",
     "output_type": "stream",
     "text": [
      "Loaded csv\n"
     ]
    }
   ],
   "source": [
    "from dataset import ForexGafData\n",
    "import pandas as pd\n",
    "df = pd.read_csv('data/eurusd_minute.csv')\n",
    "print('Loaded csv')\n",
    "forex_data = ForexGafData(df.BidClose.values, 64)"
   ]
  },
  {
   "cell_type": "code",
   "execution_count": 7,
   "metadata": {},
   "outputs": [],
   "source": [
    "from transforms import reverse_gaf, reverse_noisy_gaf\n",
    "import numpy as np\n",
    "import matplotlib.pyplot as plt\n",
    "\n",
    "def gen_logs(n):\n",
    "    x = torch.randn(n, 100)\n",
    "    gafs = gaf_generator(x).squeeze()\n",
    "    log_prices = np.array([reverse_noisy_gaf(mat).detach().numpy() for mat in gafs])\n",
    "    return log_prices\n",
    "\n",
    "def gen_diag_logs(n):\n",
    "    x = torch.randn(n, 100)\n",
    "    gafs = gaf_generator(x).squeeze()\n",
    "    log_prices = reverse_gaf(gafs).detach().numpy() \n",
    "    return log_prices\n",
    "\n",
    "def norm_ret(log_prices):\n",
    "    returns = np.diff(log_prices, axis=1)\n",
    "    return returns"
   ]
  },
  {
   "cell_type": "code",
   "execution_count": 8,
   "metadata": {},
   "outputs": [
    {
     "name": "stdout",
     "output_type": "stream",
     "text": [
      "Wasserstein distance: 0.0216\n",
      "Wasserstein distance (diagonal decoding): 0.0215\n"
     ]
    }
   ],
   "source": [
    "from transforms import reverse_gaf\n",
    "import numpy as np\n",
    "\n",
    "n = 1000\n",
    "\n",
    "idx = np.random.choice(range(len(forex_data)-n), n, replace=False)\n",
    "\n",
    "real_logs = reverse_gaf(forex_data[idx]).numpy()\n",
    "real_returns = norm_ret(real_logs).reshape(-1)\n",
    "\n",
    "fake_logs = gen_logs(n)\n",
    "fake_returns = norm_ret(fake_logs).reshape(-1)\n",
    "\n",
    "fake_logs_diag = gen_diag_logs(n)\n",
    "fake_returns_diag = norm_ret(fake_logs_diag).reshape(-1)\n",
    "\n",
    "from scipy.stats import wasserstein_distance\n",
    "w_distance = wasserstein_distance(real_returns, fake_returns)\n",
    "w_distance_diag = wasserstein_distance(real_returns, fake_returns_diag)\n",
    "print(f'Wasserstein distance: {w_distance:.4f}')\n",
    "print(f'Wasserstein distance (diagonal decoding): {w_distance_diag:.4f}')"
   ]
  },
  {
   "cell_type": "code",
   "execution_count": 9,
   "metadata": {},
   "outputs": [
    {
     "data": {
      "text/plain": [
       "<Figure size 800x640 with 0 Axes>"
      ]
     },
     "metadata": {},
     "output_type": "display_data"
    },
    {
     "data": {
      "image/png": "[encoded data removed]",
      "text/plain": [
       "<Figure size 1080x360 with 3 Axes>"
      ]
     },
     "metadata": {
      "needs_background": "light"
     },
     "output_type": "display_data"
    }
   ],
   "source": [
    "from matplotlib.pyplot import figure\n",
    "figure(figsize=(10, 8), dpi=80)\n",
    "\n",
    "fig, (ax1,ax2,ax3) = plt.subplots(1,3)\n",
    "\n",
    "\n",
    "ax1.hist(real_returns, bins=100, alpha=0.5, label='real')\n",
    "ax1.hist(fake_returns, bins=100, alpha=0.5, label='fake')\n",
    "ax1.legend()\n",
    "\n",
    "ax2.hist(real_returns, bins=100, alpha=0.5, label='real')\n",
    "ax2.hist(fake_returns_diag, bins=100, alpha=0.5, label='fake (diagonal)')\n",
    "ax2.legend()\n",
    "\n",
    "ax3.hist(fake_returns, bins=100, alpha=0.5, label='fake')\n",
    "ax3.hist(fake_returns_diag, bins=100, alpha=0.5, label='fake (diagonal)')\n",
    "ax3.legend()\n",
    "\n",
    "# set fig size\n",
    "fig.set_size_inches(15, 5)\n",
    "\n",
    "plt.show()"
   ]
  }
 ],
 "metadata": {
  "kernelspec": {
   "display_name": "Python 3.8.13 ('ml_env')",
   "language": "python",
   "name": "python3"
  },
  "language_info": {
   "codemirror_mode": {
    "name": "ipython",
    "version": 3
   },
   "file_extension": ".py",
   "mimetype": "text/x-python",
   "name": "python",
   "nbconvert_exporter": "python",
   "pygments_lexer": "ipython3",
   "version": "3.8.13"
  },
  "orig_nbformat": 4,
  "vscode": {
   "interpreter": {
    "hash": "2df6389c60b272e987a008cf4b220b397ba28cb1dcf4f61ca87e4a7041a6522f"
   }
  }
 },
 "nbformat": 4,
 "nbformat_minor": 2
}
