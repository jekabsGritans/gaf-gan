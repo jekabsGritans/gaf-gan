{
 "cells": [
  {
   "cell_type": "code",
   "execution_count": 1,
   "metadata": {},
   "outputs": [
    {
     "name": "stderr",
     "output_type": "stream",
     "text": [
      "/Users/jekabsgritans/miniconda3/envs/ml/lib/python3.9/site-packages/tqdm/auto.py:22: TqdmWarning: IProgress not found. Please update jupyter and ipywidgets. See https://ipywidgets.readthedocs.io/en/stable/user_install.html\n",
      "  from .autonotebook import tqdm as notebook_tqdm\n"
     ]
    },
    {
     "data": {
      "text/plain": [
       "<matplotlib.image.AxesImage at 0x12f8990a0>"
      ]
     },
     "execution_count": 1,
     "metadata": {},
     "output_type": "execute_result"
    },
    {
     "data": {
      "image/png": "[encoded data removed]",
      "text/plain": [
       "<Figure size 288x288 with 1 Axes>"
      ]
     },
     "metadata": {
      "needs_background": "light"
     },
     "output_type": "display_data"
    }
   ],
   "source": [
    "import torch\n",
    "import torch.nn as nn\n",
    "from dataset import ForexData\n",
    "from torch.utils.data import DataLoader\n",
    "from transforms import GAFTransform, scale, stretch\n",
    "import torch.nn.functional as F\n",
    "from torchvision.transforms import Normalize\n",
    "SEQ_LENGTH = 32\n",
    "\n",
    "dataset = ForexData(\n",
    "    seq_length=SEQ_LENGTH,\n",
    "    transforms=[scale, GAFTransform(), stretch]\n",
    ")\n",
    "\n",
    "import matplotlib.pyplot as plt\n",
    "plt.matshow(dataset[0].numpy())"
   ]
  },
  {
   "cell_type": "code",
   "execution_count": 6,
   "metadata": {},
   "outputs": [
    {
     "name": "stdout",
     "output_type": "stream",
     "text": [
      "Training...\n"
     ]
    },
    {
     "name": "stderr",
     "output_type": "stream",
     "text": [
      "Epoch [1/100]: 100%|██████████| 79/79 [00:00<00:00, 166.79it/s]\n",
      "Epoch [2/100]: 100%|██████████| 79/79 [00:00<00:00, 159.43it/s]\n",
      "Epoch [3/100]: 100%|██████████| 79/79 [00:00<00:00, 166.32it/s]\n",
      "Epoch [4/100]: 100%|██████████| 79/79 [00:00<00:00, 172.52it/s]\n",
      "Epoch [5/100]: 100%|██████████| 79/79 [00:00<00:00, 170.65it/s]\n",
      "Epoch [6/100]: 100%|██████████| 79/79 [00:00<00:00, 170.04it/s]\n",
      "Epoch [7/100]: 100%|██████████| 79/79 [00:00<00:00, 169.33it/s]\n",
      "Epoch [8/100]: 100%|██████████| 79/79 [00:00<00:00, 170.04it/s]\n",
      "Epoch [9/100]: 100%|██████████| 79/79 [00:00<00:00, 177.10it/s]\n",
      "Epoch [10/100]: 100%|██████████| 79/79 [00:00<00:00, 173.85it/s]\n",
      "Epoch [11/100]: 100%|██████████| 79/79 [00:00<00:00, 176.40it/s]\n",
      "Epoch [12/100]: 100%|██████████| 79/79 [00:00<00:00, 175.27it/s]\n",
      "Epoch [13/100]: 100%|██████████| 79/79 [00:00<00:00, 175.87it/s]\n",
      "Epoch [14/100]: 100%|██████████| 79/79 [00:00<00:00, 177.72it/s]\n",
      "Epoch [15/100]: 100%|██████████| 79/79 [00:00<00:00, 170.38it/s]\n",
      "Epoch [16/100]: 100%|██████████| 79/79 [00:00<00:00, 172.84it/s]\n",
      "Epoch [17/100]: 100%|██████████| 79/79 [00:00<00:00, 174.56it/s]\n",
      "Epoch [18/100]: 100%|██████████| 79/79 [00:00<00:00, 174.95it/s]\n",
      "Epoch [19/100]: 100%|██████████| 79/79 [00:00<00:00, 159.14it/s]\n",
      "Epoch [20/100]: 100%|██████████| 79/79 [00:00<00:00, 174.23it/s]\n",
      "Epoch [21/100]: 100%|██████████| 79/79 [00:00<00:00, 175.72it/s]\n",
      "Epoch [22/100]: 100%|██████████| 79/79 [00:00<00:00, 171.78it/s]\n",
      "Epoch [23/100]: 100%|██████████| 79/79 [00:00<00:00, 174.29it/s]\n",
      "Epoch [24/100]: 100%|██████████| 79/79 [00:00<00:00, 175.19it/s]\n",
      "Epoch [25/100]: 100%|██████████| 79/79 [00:00<00:00, 173.11it/s]\n",
      "Epoch [26/100]: 100%|██████████| 79/79 [00:00<00:00, 173.16it/s]\n",
      "Epoch [27/100]: 100%|██████████| 79/79 [00:00<00:00, 170.68it/s]\n",
      "Epoch [28/100]: 100%|██████████| 79/79 [00:00<00:00, 173.25it/s]\n",
      "Epoch [29/100]: 100%|██████████| 79/79 [00:00<00:00, 170.23it/s]\n",
      "Epoch [30/100]: 100%|██████████| 79/79 [00:00<00:00, 175.43it/s]\n",
      "Epoch [31/100]: 100%|██████████| 79/79 [00:00<00:00, 170.87it/s]\n",
      "Epoch [32/100]: 100%|██████████| 79/79 [00:00<00:00, 176.43it/s]\n",
      "Epoch [33/100]: 100%|██████████| 79/79 [00:00<00:00, 175.45it/s]\n",
      "Epoch [34/100]: 100%|██████████| 79/79 [00:00<00:00, 183.24it/s]\n",
      "Epoch [35/100]: 100%|██████████| 79/79 [00:00<00:00, 176.05it/s]\n",
      "Epoch [36/100]: 100%|██████████| 79/79 [00:00<00:00, 176.62it/s]\n",
      "Epoch [37/100]: 100%|██████████| 79/79 [00:00<00:00, 173.73it/s]\n",
      "Epoch [38/100]: 100%|██████████| 79/79 [00:00<00:00, 175.25it/s]\n",
      "Epoch [39/100]: 100%|██████████| 79/79 [00:00<00:00, 172.55it/s]\n",
      "Epoch [40/100]: 100%|██████████| 79/79 [00:00<00:00, 177.60it/s]\n",
      "Epoch [41/100]: 100%|██████████| 79/79 [00:00<00:00, 174.83it/s]\n",
      "Epoch [42/100]: 100%|██████████| 79/79 [00:00<00:00, 173.45it/s]\n",
      "Epoch [43/100]: 100%|██████████| 79/79 [00:00<00:00, 168.83it/s]\n",
      "Epoch [44/100]: 100%|██████████| 79/79 [00:00<00:00, 173.91it/s]\n",
      "Epoch [45/100]: 100%|██████████| 79/79 [00:00<00:00, 173.58it/s]\n",
      "Epoch [46/100]: 100%|██████████| 79/79 [00:00<00:00, 176.18it/s]\n",
      "Epoch [47/100]: 100%|██████████| 79/79 [00:00<00:00, 171.93it/s]\n",
      "Epoch [48/100]: 100%|██████████| 79/79 [00:00<00:00, 173.06it/s]\n",
      "Epoch [49/100]: 100%|██████████| 79/79 [00:00<00:00, 175.33it/s]\n",
      "Epoch [50/100]: 100%|██████████| 79/79 [00:00<00:00, 175.96it/s]\n",
      "Epoch [51/100]: 100%|██████████| 79/79 [00:00<00:00, 175.50it/s]\n",
      "Epoch [52/100]: 100%|██████████| 79/79 [00:00<00:00, 173.93it/s]\n",
      "Epoch [53/100]: 100%|██████████| 79/79 [00:00<00:00, 175.67it/s]\n",
      "Epoch [54/100]: 100%|██████████| 79/79 [00:00<00:00, 166.89it/s]\n",
      "Epoch [55/100]: 100%|██████████| 79/79 [00:00<00:00, 176.12it/s]\n",
      "Epoch [56/100]: 100%|██████████| 79/79 [00:00<00:00, 172.35it/s]\n",
      "Epoch [57/100]: 100%|██████████| 79/79 [00:00<00:00, 173.01it/s]\n",
      "Epoch [58/100]: 100%|██████████| 79/79 [00:00<00:00, 170.39it/s]\n",
      "Epoch [59/100]: 100%|██████████| 79/79 [00:00<00:00, 176.08it/s]\n",
      "Epoch [60/100]: 100%|██████████| 79/79 [00:00<00:00, 173.77it/s]\n",
      "Epoch [61/100]: 100%|██████████| 79/79 [00:00<00:00, 174.79it/s]\n",
      "Epoch [62/100]: 100%|██████████| 79/79 [00:00<00:00, 177.15it/s]\n",
      "Epoch [63/100]: 100%|██████████| 79/79 [00:00<00:00, 171.86it/s]\n",
      "Epoch [64/100]: 100%|██████████| 79/79 [00:00<00:00, 175.79it/s]\n",
      "Epoch [65/100]: 100%|██████████| 79/79 [00:00<00:00, 180.09it/s]\n",
      "Epoch [66/100]: 100%|██████████| 79/79 [00:00<00:00, 170.15it/s]\n",
      "Epoch [67/100]: 100%|██████████| 79/79 [00:00<00:00, 174.58it/s]\n",
      "Epoch [68/100]: 100%|██████████| 79/79 [00:00<00:00, 175.23it/s]\n",
      "Epoch [69/100]: 100%|██████████| 79/79 [00:00<00:00, 177.80it/s]\n",
      "Epoch [70/100]: 100%|██████████| 79/79 [00:00<00:00, 173.72it/s]\n",
      "Epoch [71/100]: 100%|██████████| 79/79 [00:00<00:00, 171.08it/s]\n",
      "Epoch [72/100]: 100%|██████████| 79/79 [00:00<00:00, 173.10it/s]\n",
      "Epoch [73/100]: 100%|██████████| 79/79 [00:00<00:00, 173.96it/s]\n",
      "Epoch [74/100]: 100%|██████████| 79/79 [00:00<00:00, 173.57it/s]\n",
      "Epoch [75/100]: 100%|██████████| 79/79 [00:00<00:00, 175.05it/s]\n",
      "Epoch [76/100]: 100%|██████████| 79/79 [00:00<00:00, 170.45it/s]\n",
      "Epoch [77/100]: 100%|██████████| 79/79 [00:00<00:00, 174.48it/s]\n",
      "Epoch [78/100]: 100%|██████████| 79/79 [00:00<00:00, 173.42it/s]\n",
      "Epoch [79/100]: 100%|██████████| 79/79 [00:00<00:00, 175.18it/s]\n",
      "Epoch [80/100]: 100%|██████████| 79/79 [00:00<00:00, 175.23it/s]\n",
      "Epoch [81/100]: 100%|██████████| 79/79 [00:00<00:00, 174.47it/s]\n",
      "Epoch [82/100]: 100%|██████████| 79/79 [00:00<00:00, 176.56it/s]\n",
      "Epoch [83/100]: 100%|██████████| 79/79 [00:00<00:00, 173.69it/s]\n",
      "Epoch [84/100]: 100%|██████████| 79/79 [00:00<00:00, 178.25it/s]\n",
      "Epoch [85/100]: 100%|██████████| 79/79 [00:00<00:00, 175.76it/s]\n",
      "Epoch [86/100]: 100%|██████████| 79/79 [00:00<00:00, 171.74it/s]\n",
      "Epoch [87/100]: 100%|██████████| 79/79 [00:00<00:00, 172.63it/s]\n",
      "Epoch [88/100]: 100%|██████████| 79/79 [00:00<00:00, 173.68it/s]\n",
      "Epoch [89/100]: 100%|██████████| 79/79 [00:00<00:00, 172.49it/s]\n",
      "Epoch [90/100]: 100%|██████████| 79/79 [00:00<00:00, 169.98it/s]\n",
      "Epoch [91/100]: 100%|██████████| 79/79 [00:00<00:00, 175.17it/s]\n",
      "Epoch [92/100]: 100%|██████████| 79/79 [00:00<00:00, 173.33it/s]\n",
      "Epoch [93/100]: 100%|██████████| 79/79 [00:00<00:00, 173.84it/s]\n",
      "Epoch [94/100]: 100%|██████████| 79/79 [00:00<00:00, 173.93it/s]\n",
      "Epoch [95/100]: 100%|██████████| 79/79 [00:00<00:00, 173.85it/s]\n",
      "Epoch [96/100]: 100%|██████████| 79/79 [00:00<00:00, 172.91it/s]\n",
      "Epoch [97/100]: 100%|██████████| 79/79 [00:00<00:00, 173.11it/s]\n",
      "Epoch [98/100]: 100%|██████████| 79/79 [00:00<00:00, 172.22it/s]\n",
      "Epoch [99/100]: 100%|██████████| 79/79 [00:00<00:00, 172.85it/s]\n",
      "Epoch [100/100]: 100%|██████████| 79/79 [00:00<00:00, 177.03it/s]\n"
     ]
    }
   ],
   "source": [
    "LATENT_DIM=128\n",
    "BATCH_SIZE=64\n",
    "EPOCHS=100\n",
    "\n",
    "import torch\n",
    "device = torch.device(\"cuda:0\" if torch.cuda.is_available() else \"cpu\")\n",
    "\n",
    "from models import Critic, Generator\n",
    "\n",
    "c = Critic(\n",
    "    img_size=SEQ_LENGTH,\n",
    ")\n",
    "\n",
    "g = Generator(\n",
    "    latent_dim=LATENT_DIM,\n",
    "    img_size=SEQ_LENGTH,\n",
    ")\n",
    "\n",
    "import torch.optim as optim\n",
    "c_optim = optim.Adam(c.parameters(), lr=1e-4, betas=(0.0,0.9))\n",
    "g_optim = optim.Adam(g.parameters(), lr=1e-4, betas=(0.0,0.9))\n",
    "\n",
    "from trainer import WGanTrainer\n",
    "trainer = WGanTrainer(\n",
    "    generator=g,\n",
    "    critic=c,\n",
    "    gen_optimizer=g_optim,\n",
    "    critic_optimizer=c_optim,\n",
    "    latent_dimension=LATENT_DIM,\n",
    "    device=device,\n",
    ")\n",
    "\n",
    "data_loader = DataLoader(dataset, batch_size=BATCH_SIZE, shuffle=True)\n",
    "trainer.train(data_loader, EPOCHS)"
   ]
  },
  {
   "cell_type": "code",
   "execution_count": 7,
   "metadata": {},
   "outputs": [
    {
     "data": {
      "image/png": "[encoded data removed]",
      "text/plain": [
       "<Figure size 432x288 with 1 Axes>"
      ]
     },
     "metadata": {
      "needs_background": "light"
     },
     "output_type": "display_data"
    }
   ],
   "source": [
    "trainer.plot_losses()"
   ]
  },
  {
   "cell_type": "code",
   "execution_count": 8,
   "metadata": {},
   "outputs": [
    {
     "data": {
      "text/plain": [
       "<matplotlib.image.AxesImage at 0x12fef6a00>"
      ]
     },
     "execution_count": 8,
     "metadata": {},
     "output_type": "execute_result"
    },
    {
     "data": {
      "image/png": "[encoded data removed]",
      "text/plain": [
       "<Figure size 288x288 with 1 Axes>"
      ]
     },
     "metadata": {
      "needs_background": "light"
     },
     "output_type": "display_data"
    }
   ],
   "source": [
    "sample = trainer.sample(1)\n",
    "plt.matshow(sample[0])\n"
   ]
  },
  {
   "cell_type": "code",
   "execution_count": 5,
   "metadata": {},
   "outputs": [
    {
     "data": {
      "text/plain": [
       "(array([  2.,   2.,   4.,   9.,  31.,  48.,  72., 106., 170., 580.]),\n",
       " array([0.8084952 , 0.8275372 , 0.84657913, 0.8656211 , 0.88466305,\n",
       "        0.903705  , 0.9227469 , 0.94178885, 0.9608308 , 0.97987276,\n",
       "        0.9989147 ], dtype=float32),\n",
       " <BarContainer object of 10 artists>)"
      ]
     },
     "execution_count": 5,
     "metadata": {},
     "output_type": "execute_result"
    },
    {
     "data": {
      "image/png": "[encoded data removed]",
      "text/plain": [
       "<Figure size 432x288 with 1 Axes>"
      ]
     },
     "metadata": {
      "needs_background": "light"
     },
     "output_type": "display_data"
    }
   ],
   "source": [
    "import matplotlib.pyplot as plt\n",
    "real_data = dataset[0].numpy().reshape(-1)\n",
    "fake_data = trainer.sample(1)[0].reshape(-1)\n",
    "plt.hist(real_data)\n",
    "plt.hist(fake_data)"
   ]
  },
  {
   "cell_type": "code",
   "execution_count": 24,
   "metadata": {},
   "outputs": [
    {
     "data": {
      "text/plain": [
       "array([[0, 1, 2, 3, 4],\n",
       "       [1, 2, 3, 4, 5],\n",
       "       [2, 3, 4, 5, 6],\n",
       "       [3, 4, 5, 6, 7],\n",
       "       [4, 5, 6, 7, 8]])"
      ]
     },
     "execution_count": 24,
     "metadata": {},
     "output_type": "execute_result"
    }
   ],
   "source": [
    "import numpy as np\n",
    "\n",
    "def shuffle_triangle(mat):\n",
    "    n = mat.shape[0]\n",
    "    mask = np.ones((n,n))\n",
    "    for a in range(n):\n",
    "        for b in range(a,n):\n",
    "            mask[a,b] = 0\n",
    "\n",
    "    shuffled = mat[mask]\n",
    "    shuffled = np.random.shuffle(mat[mask])\n",
    "    mat[mask] = shuffled[mask]\n",
    "\n",
    "    return mat\n",
    "\n",
    "mask = scramble_triangle(5)\n",
    "mask = np.array(mask, dtype=bool)\n",
    "arr = np.array(range(5))\n",
    "mat = arr.reshape(-1,1)+arr\n",
    "mat[mask] = = np.ones_like(mask)[mask]\n",
    "mat"
   ]
  },
  {
   "cell_type": "code",
   "execution_count": 21,
   "metadata": {},
   "outputs": [
    {
     "data": {
      "text/plain": [
       "array([[ True,  True,  True,  True,  True],\n",
       "       [False,  True,  True,  True,  True],\n",
       "       [False, False,  True,  True,  True],\n",
       "       [False, False, False,  True,  True],\n",
       "       [False, False, False, False,  True]])"
      ]
     },
     "execution_count": 21,
     "metadata": {},
     "output_type": "execute_result"
    }
   ],
   "source": [
    "mask"
   ]
  },
  {
   "cell_type": "code",
   "execution_count": null,
   "metadata": {},
   "outputs": [],
   "source": []
  }
 ],
 "metadata": {
  "kernelspec": {
   "display_name": "Python 3.9.12 ('ml')",
   "language": "python",
   "name": "python3"
  },
  "language_info": {
   "codemirror_mode": {
    "name": "ipython",
    "version": 3
   },
   "file_extension": ".py",
   "mimetype": "text/x-python",
   "name": "python",
   "nbconvert_exporter": "python",
   "pygments_lexer": "ipython3",
   "version": "3.9.12"
  },
  "orig_nbformat": 4,
  "vscode": {
   "interpreter": {
    "hash": "ab8c0998a5f9d42f3d6dcd061fbd5513b46606b74b388aa0ede70f26674bea1e"
   }
  }
 },
 "nbformat": 4,
 "nbformat_minor": 2
}
