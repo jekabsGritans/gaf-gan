{
 "cells": [
  {
   "cell_type": "code",
   "execution_count": 1,
   "metadata": {},
   "outputs": [
    {
     "name": "stderr",
     "output_type": "stream",
     "text": [
      "/home/jekabs/anaconda3/envs/ml_env/lib/python3.8/site-packages/tqdm/auto.py:22: TqdmWarning: IProgress not found. Please update jupyter and ipywidgets. See https://ipywidgets.readthedocs.io/en/stable/user_install.html\n",
      "  from .autonotebook import tqdm as notebook_tqdm\n"
     ]
    },
    {
     "name": "stdout",
     "output_type": "stream",
     "text": [
      "n: 80690\n",
      "using cuda\n"
     ]
    }
   ],
   "source": [
    "IMAGE_DIM=64\n",
    "\n",
    "from dataset import ForexGafData\n",
    "import torch\n",
    "import os\n",
    "import pandas as pd\n",
    "\n",
    "df = pd.read_csv('./data/eurusd_minute.csv')\n",
    "dataset = ForexGafData(df['BidClose'], IMAGE_DIM)\n",
    "\n",
    "for data in dataset:\n",
    "    assert not torch.isnan(data).any()\n",
    "\n",
    "print('n:', len(dataset))\n",
    "\n",
    "device = torch.device('cuda' if torch.cuda.is_available() else 'cpu')\n",
    "\n",
    "print('using', device)"
   ]
  },
  {
   "cell_type": "code",
   "execution_count": 3,
   "metadata": {},
   "outputs": [
    {
     "name": "stdout",
     "output_type": "stream",
     "text": [
      "Training...\n"
     ]
    },
    {
     "name": "stderr",
     "output_type": "stream",
     "text": [
      "Epoch [1/3]: 100%|██████████| 2521/2521 [04:02<00:00, 10.40it/s]\n"
     ]
    },
    {
     "name": "stdout",
     "output_type": "stream",
     "text": [
      "Saving model checkpoint...\n"
     ]
    },
    {
     "name": "stderr",
     "output_type": "stream",
     "text": [
      "Epoch [2/3]: 100%|██████████| 2521/2521 [04:00<00:00, 10.46it/s]\n"
     ]
    },
    {
     "name": "stdout",
     "output_type": "stream",
     "text": [
      "Saving model checkpoint...\n"
     ]
    },
    {
     "name": "stderr",
     "output_type": "stream",
     "text": [
      "Epoch [3/3]:  12%|█▏        | 311/2521 [00:29<03:31, 10.45it/s]\n"
     ]
    },
    {
     "ename": "KeyboardInterrupt",
     "evalue": "",
     "output_type": "error",
     "traceback": [
      "\u001b[0;31m---------------------------------------------------------------------------\u001b[0m",
      "\u001b[0;31mKeyboardInterrupt\u001b[0m                         Traceback (most recent call last)",
      "\u001b[1;32m/home/jekabs/dataproj/gaf-gan/training_exploration.ipynb Cell 2\u001b[0m in \u001b[0;36m<cell line: 44>\u001b[0;34m()\u001b[0m\n\u001b[1;32m     <a href='vscode-notebook-cell://ssh-remote%2B192.168.10.6/home/jekabs/dataproj/gaf-gan/training_exploration.ipynb#W1sdnNjb2RlLXJlbW90ZQ%3D%3D?line=40'>41</a>\u001b[0m data_loader \u001b[39m=\u001b[39m DataLoader(dataset, batch_size\u001b[39m=\u001b[39m\u001b[39m32\u001b[39m, shuffle\u001b[39m=\u001b[39m\u001b[39mTrue\u001b[39;00m, drop_last\u001b[39m=\u001b[39m\u001b[39mTrue\u001b[39;00m)\n\u001b[1;32m     <a href='vscode-notebook-cell://ssh-remote%2B192.168.10.6/home/jekabs/dataproj/gaf-gan/training_exploration.ipynb#W1sdnNjb2RlLXJlbW90ZQ%3D%3D?line=42'>43</a>\u001b[0m \u001b[39m# with torch.autograd.detect_anomaly():\u001b[39;00m\n\u001b[0;32m---> <a href='vscode-notebook-cell://ssh-remote%2B192.168.10.6/home/jekabs/dataproj/gaf-gan/training_exploration.ipynb#W1sdnNjb2RlLXJlbW90ZQ%3D%3D?line=43'>44</a>\u001b[0m trainer\u001b[39m.\u001b[39;49mtrain(data_loader, epochs\u001b[39m=\u001b[39;49m\u001b[39m3\u001b[39;49m)\n",
      "File \u001b[0;32m~/dataproj/gaf-gan/trainer.py:141\u001b[0m, in \u001b[0;36mGanTrainer.train\u001b[0;34m(self, data_loader, epochs)\u001b[0m\n\u001b[1;32m    139\u001b[0m \u001b[39mfor\u001b[39;00m epoch \u001b[39min\u001b[39;00m \u001b[39mrange\u001b[39m(epochs):\n\u001b[1;32m    140\u001b[0m     \u001b[39mself\u001b[39m\u001b[39m.\u001b[39m_curr_epoch \u001b[39m=\u001b[39m epoch\u001b[39m+\u001b[39m\u001b[39m1\u001b[39m\n\u001b[0;32m--> 141\u001b[0m     \u001b[39mself\u001b[39;49m\u001b[39m.\u001b[39;49mtrain_epoch(data_loader)\n\u001b[1;32m    142\u001b[0m     \u001b[39mif\u001b[39;00m \u001b[39mself\u001b[39m\u001b[39m.\u001b[39mcheckpoint_interval \u001b[39mand\u001b[39;00m (epoch\u001b[39m+\u001b[39m\u001b[39m1\u001b[39m) \u001b[39m%\u001b[39m \u001b[39mself\u001b[39m\u001b[39m.\u001b[39mcheckpoint_interval \u001b[39m==\u001b[39m \u001b[39m0\u001b[39m:\n\u001b[1;32m    143\u001b[0m         \u001b[39mself\u001b[39m\u001b[39m.\u001b[39msave_progress()\n",
      "File \u001b[0;32m~/dataproj/gaf-gan/trainer.py:52\u001b[0m, in \u001b[0;36mGanTrainer.train_epoch\u001b[0;34m(self, data_loader)\u001b[0m\n\u001b[1;32m     50\u001b[0m \u001b[39mdef\u001b[39;00m \u001b[39mtrain_epoch\u001b[39m(\u001b[39mself\u001b[39m, data_loader):\n\u001b[1;32m     51\u001b[0m     \u001b[39mfor\u001b[39;00m batch \u001b[39min\u001b[39;00m \u001b[39mself\u001b[39m\u001b[39m.\u001b[39mepoch_wrapper(data_loader):\n\u001b[0;32m---> 52\u001b[0m         \u001b[39mself\u001b[39;49m\u001b[39m.\u001b[39;49mtrain_critic_iteration(batch)\n\u001b[1;32m     54\u001b[0m         \u001b[39mif\u001b[39;00m \u001b[39mself\u001b[39m\u001b[39m.\u001b[39m_step_num \u001b[39m%\u001b[39m \u001b[39mself\u001b[39m\u001b[39m.\u001b[39mcritic_iterations \u001b[39m==\u001b[39m \u001b[39m0\u001b[39m:\n\u001b[1;32m     55\u001b[0m             \u001b[39mself\u001b[39m\u001b[39m.\u001b[39mtrain_gen_iteration(batch)\n",
      "File \u001b[0;32m~/dataproj/gaf-gan/trainer.py:389\u001b[0m, in \u001b[0;36mWGanGpTrainer.train_critic_iteration\u001b[0;34m(self, x_real)\u001b[0m\n\u001b[1;32m    386\u001b[0m critic_loss\u001b[39m.\u001b[39mbackward()\n\u001b[1;32m    387\u001b[0m \u001b[39mself\u001b[39m\u001b[39m.\u001b[39mc_optim\u001b[39m.\u001b[39mstep()\n\u001b[0;32m--> 389\u001b[0m \u001b[39mself\u001b[39m\u001b[39m.\u001b[39mlosses[\u001b[39m'\u001b[39m\u001b[39mc\u001b[39m\u001b[39m'\u001b[39m]\u001b[39m.\u001b[39mappend(critic_loss\u001b[39m.\u001b[39;49mitem())\n\u001b[1;32m    390\u001b[0m \u001b[39mself\u001b[39m\u001b[39m.\u001b[39mlosses[\u001b[39m'\u001b[39m\u001b[39mgp\u001b[39m\u001b[39m'\u001b[39m]\u001b[39m.\u001b[39mappend(gp\u001b[39m.\u001b[39mitem())\n",
      "\u001b[0;31mKeyboardInterrupt\u001b[0m: "
     ]
    }
   ],
   "source": [
    "from models import Generator, Discriminator\n",
    "from trainer import WGanTrainer, WGanGpTrainer, ClassicalGanTrainer\n",
    "from torch.utils.data import DataLoader\n",
    "\n",
    "import matplotlib.pyplot as plt\n",
    "import numpy as np\n",
    "\n",
    "\n",
    "g = Generator()\n",
    "g._initialize_weights()\n",
    "d = Discriminator()\n",
    "\n",
    "g_optim = torch.optim.Adam(g.parameters(), lr=1e-4, betas=(0.0, 0.9))\n",
    "d_optim = torch.optim.Adam(d.parameters(), lr=1e-4, betas=(0.0, 0.9))\n",
    "\n",
    "# g_optim = torch.optim.RMSprop(g.parameters(), lr=5e-5)\n",
    "# d_optim = torch.optim.RMSprop(d.parameters(), lr=5e-5)\n",
    "\n",
    "write_dir='./runs/last'\n",
    "model_dir='./models/last'\n",
    "\n",
    "if not os.path.isdir(write_dir):\n",
    "    os.makedirs(write_dir)\n",
    "if not os.path.isdir(model_dir):\n",
    "    os.makedirs(model_dir)\n",
    "\n",
    "trainer = WGanGpTrainer(\n",
    "    generator=g,\n",
    "    critic=d,\n",
    "    gen_optimizer=g_optim,\n",
    "    critic_optimizer=d_optim,\n",
    "    latent_dimension=100,\n",
    "    device=device,\n",
    "    write_dir=write_dir,\n",
    "    model_dir=model_dir,\n",
    "    checkpoint_interval=1,\n",
    "    gp_weight=10,\n",
    ")\n",
    "\n",
    "\n",
    "data_loader = DataLoader(dataset, batch_size=32, shuffle=True, drop_last=True)\n",
    "\n",
    "# with torch.autograd.detect_anomaly():\n",
    "trainer.train(data_loader, epochs=3)"
   ]
  }
 ],
 "metadata": {
  "kernelspec": {
   "display_name": "Python 3 (ipykernel)",
   "language": "python",
   "name": "python3"
  },
  "language_info": {
   "codemirror_mode": {
    "name": "ipython",
    "version": 3
   },
   "file_extension": ".py",
   "mimetype": "text/x-python",
   "name": "python",
   "nbconvert_exporter": "python",
   "pygments_lexer": "ipython3",
   "version": "3.8.13"
  },
  "orig_nbformat": 4,
  "vscode": {
   "interpreter": {
    "hash": "2df6389c60b272e987a008cf4b220b397ba28cb1dcf4f61ca87e4a7041a6522f"
   }
  }
 },
 "nbformat": 4,
 "nbformat_minor": 2
}
